{
 "cells": [
  {
   "cell_type": "code",
   "execution_count": null,
   "id": "61a28dda-8044-4e64-bfc0-c04bb6579720",
   "metadata": {},
   "outputs": [],
   "source": [
    "#!pip install sentence_transformers\n",
    "#!pip install ag2[retrievechat]\n",
    "#!pip install pyautogen==0.7.2\n",
    "#https://microsoft.github.io/autogen/0.2/docs/notebooks/agentchat_RetrieveChat/"
   ]
  },
  {
   "cell_type": "markdown",
   "id": "28761e60-bc5c-4321-b30c-f419db29cc9f",
   "metadata": {},
   "source": [
    "# Setting base for Retrive Chat"
   ]
  },
  {
   "cell_type": "code",
   "execution_count": 1,
   "id": "48d23e50-50ac-49c1-8bbf-e2dc0b9275ea",
   "metadata": {},
   "outputs": [
    {
     "name": "stdout",
     "output_type": "stream",
     "text": [
      "models to use:  ['gpt-35-turbo', 'gpt-4-vision-preview', 'dalle', 'gemini-pro', 'gemini-1.5-pro-001', 'gemini-1.5-pro', 'gemini-pro-vision']\n"
     ]
    }
   ],
   "source": [
    "import json\n",
    "import os\n",
    "\n",
    "import chromadb\n",
    "\n",
    "import autogen\n",
    "from autogen import AssistantAgent\n",
    "from autogen.agentchat.contrib.retrieve_user_proxy_agent import RetrieveUserProxyAgent\n",
    "\n",
    "# Accepted file formats for that can be stored in\n",
    "# a vector database instance\n",
    "from autogen.retrieve_utils import TEXT_FORMATS\n",
    "\n",
    "config_list = autogen.config_list_from_json(\"OAI_CONFIG_LIST.json\")\n",
    "\n",
    "assert len(config_list) > 0\n",
    "print(\"models to use: \", [config_list[i][\"model\"] for i in range(len(config_list))])"
   ]
  },
  {
   "cell_type": "code",
   "execution_count": null,
   "id": "f4901dc7-4ec8-46a6-abb7-40c711a7913e",
   "metadata": {},
   "outputs": [],
   "source": [
    "print(\"Accepted file formats for `docs_path`:\")\n",
    "print(TEXT_FORMATS)"
   ]
  },
  {
   "cell_type": "code",
   "execution_count": 2,
   "id": "ab7404f8-8c8c-41c0-b014-3e408a8ddb3a",
   "metadata": {},
   "outputs": [],
   "source": [
    "config_list = [\n",
    "    {\n",
    "        # Let's choose the Meta's Llama 3.1 model (model names must match Ollama exactly)\n",
    "        \"model\": \"llama3\",\n",
    "        # We specify the API Type as 'ollama' so it uses the Ollama client class\n",
    "        \"api_type\": \"ollama\",\n",
    "        \"stream\": False,\n",
    "        #\"client_host\": \"http://192.168.0.1:11434\",\n",
    "    }\n",
    "]"
   ]
  },
  {
   "cell_type": "code",
   "execution_count": null,
   "id": "48d95f70-b592-4ec9-8e97-95fa43db9ac5",
   "metadata": {},
   "outputs": [],
   "source": [
    "import agentops\n",
    "agentops.init(\"954ecbcb-9555-470b-a2ad-a6999473648b\")"
   ]
  },
  {
   "cell_type": "code",
   "execution_count": 3,
   "id": "f4d873f8-e0c6-4be0-8430-b6a9fd7c632b",
   "metadata": {},
   "outputs": [],
   "source": [
    "# 1. create an AssistantAgent instance named \"assistant\"\n",
    "assistant = AssistantAgent(\n",
    "    name=\"assistant\",\n",
    "    system_message=\"You are a helpful assistant.\",\n",
    "    llm_config={\n",
    "        \"timeout\": 600,\n",
    "        \"cache_seed\": 42,\n",
    "        \"config_list\": config_list,\n",
    "    },\n",
    ")\n"
   ]
  },
  {
   "cell_type": "code",
   "execution_count": 4,
   "id": "4a104138-10e7-451c-ab49-38dc55cdb747",
   "metadata": {},
   "outputs": [],
   "source": [
    "from autogen.agentchat.contrib.retrieve_user_proxy_agent import RetrieveUserProxyAgent\n",
    "\n",
    "# Extract text from local PDF files\n",
    "pdf_files = [\"book.pdf\"]\n",
    "#docs_content = [extract_text_from_pdf(file) for file in pdf_files]\n",
    "\n",
    "from autogen.retrieve_utils import TEXT_FORMATS,extract_text_from_pdf\n",
    "docs_content= extract_text_from_pdf(\"book.pdf\")"
   ]
  },
  {
   "cell_type": "code",
   "execution_count": 5,
   "id": "e876469d-2e23-469e-a030-6d9d2080921a",
   "metadata": {},
   "outputs": [],
   "source": [
    "# Define the RetrieveUserProxyAgent instance\n",
    "ragproxyagent = RetrieveUserProxyAgent(\n",
    "    name=\"ragproxyagent\",\n",
    "    human_input_mode=\"NEVER\",\n",
    "    max_consecutive_auto_reply=3,\n",
    "    retrieve_config={\n",
    "        \"task\": \"qa\",\n",
    "        \"docs_path\": [\"autogen-docs/book.pdf\"],\n",
    "        \"docs_content\": docs_content,  # Provide the extracted content directly\n",
    "        \"chunk_token_size\": 200,\n",
    "        \"model\": config_list[0][\"model\"],\n",
    "        \"vector_db\": \"chroma\",\n",
    "        \"overwrite\": True,\n",
    "        \"get_or_create\": True,\n",
    "    },\n",
    "    code_execution_config=False,\n",
    ")"
   ]
  },
  {
   "cell_type": "markdown",
   "id": "439c9ead-b1aa-4795-9aba-723b20e3d8b2",
   "metadata": {},
   "source": [
    "# Process Starts for Scenario 1 : Generate code based off docstrings w/o human feedback"
   ]
  },
  {
   "cell_type": "code",
   "execution_count": 6,
   "id": "0a9aa104-6999-41f1-8e34-913026e26c58",
   "metadata": {},
   "outputs": [
    {
     "name": "stdout",
     "output_type": "stream",
     "text": [
      "Trying to create collection.\n"
     ]
    },
    {
     "name": "stderr",
     "output_type": "stream",
     "text": [
      "max_tokens is too small to fit a single line of text. Breaking this line:\n",
      "\tThe 22 ...\n",
      "Failed to split docs with must_break_at_empty_line being True, set to False.\n",
      "2025-02-05 22:21:43,253 - autogen.agentchat.contrib.retrieve_user_proxy_agent - INFO - Found 215 chunks.\u001b[0m\n",
      "2025-02-05 22:21:43,260 - autogen.agentchat.contrib.vectordb.chromadb - INFO - No content embedding is provided. Will use the VectorDB's embedding function to generate the content embedding.\u001b[0m\n",
      "Model llama3 not found. Using cl100k_base encoding.\n"
     ]
    },
    {
     "name": "stdout",
     "output_type": "stream",
     "text": [
      "VectorDB returns doc_ids:  [['fe1105cf', '8bf7f8ee', 'f0804281', '1d0894aa', 'd11d708f', '150c596a', '59e93e46', '72d0eb0f', '7091167f', '43a28a91', '20aa2481', '77724982', '451a2a58', 'a5e9b671', 'a1061522', '466a2471', '8e332eec', '2181712a', '477d35c8', '10e789b5']]\n",
      "\u001b[32mAdding content of doc fe1105cf to context.\u001b[0m\n"
     ]
    },
    {
     "name": "stderr",
     "output_type": "stream",
     "text": [
      "Model llama3 not found. Using cl100k_base encoding.\n"
     ]
    },
    {
     "name": "stdout",
     "output_type": "stream",
     "text": [
      "\u001b[32mAdding content of doc 8bf7f8ee to context.\u001b[0m\n"
     ]
    },
    {
     "name": "stderr",
     "output_type": "stream",
     "text": [
      "Model llama3 not found. Using cl100k_base encoding.\n"
     ]
    },
    {
     "name": "stdout",
     "output_type": "stream",
     "text": [
      "\u001b[32mAdding content of doc f0804281 to context.\u001b[0m\n"
     ]
    },
    {
     "name": "stderr",
     "output_type": "stream",
     "text": [
      "Model llama3 not found. Using cl100k_base encoding.\n"
     ]
    },
    {
     "name": "stdout",
     "output_type": "stream",
     "text": [
      "\u001b[32mAdding content of doc 1d0894aa to context.\u001b[0m\n"
     ]
    },
    {
     "name": "stderr",
     "output_type": "stream",
     "text": [
      "Model llama3 not found. Using cl100k_base encoding.\n"
     ]
    },
    {
     "name": "stdout",
     "output_type": "stream",
     "text": [
      "\u001b[32mAdding content of doc d11d708f to context.\u001b[0m\n"
     ]
    },
    {
     "name": "stderr",
     "output_type": "stream",
     "text": [
      "Model llama3 not found. Using cl100k_base encoding.\n"
     ]
    },
    {
     "name": "stdout",
     "output_type": "stream",
     "text": [
      "\u001b[32mAdding content of doc 150c596a to context.\u001b[0m\n"
     ]
    },
    {
     "name": "stderr",
     "output_type": "stream",
     "text": [
      "Model llama3 not found. Using cl100k_base encoding.\n"
     ]
    },
    {
     "name": "stdout",
     "output_type": "stream",
     "text": [
      "\u001b[32mAdding content of doc 59e93e46 to context.\u001b[0m\n"
     ]
    },
    {
     "name": "stderr",
     "output_type": "stream",
     "text": [
      "Model llama3 not found. Using cl100k_base encoding.\n"
     ]
    },
    {
     "name": "stdout",
     "output_type": "stream",
     "text": [
      "\u001b[32mAdding content of doc 72d0eb0f to context.\u001b[0m\n"
     ]
    },
    {
     "name": "stderr",
     "output_type": "stream",
     "text": [
      "Model llama3 not found. Using cl100k_base encoding.\n"
     ]
    },
    {
     "name": "stdout",
     "output_type": "stream",
     "text": [
      "\u001b[32mAdding content of doc 7091167f to context.\u001b[0m\n"
     ]
    },
    {
     "name": "stderr",
     "output_type": "stream",
     "text": [
      "Model llama3 not found. Using cl100k_base encoding.\n"
     ]
    },
    {
     "name": "stdout",
     "output_type": "stream",
     "text": [
      "\u001b[32mAdding content of doc 43a28a91 to context.\u001b[0m\n"
     ]
    },
    {
     "name": "stderr",
     "output_type": "stream",
     "text": [
      "Model llama3 not found. Using cl100k_base encoding.\n"
     ]
    },
    {
     "name": "stdout",
     "output_type": "stream",
     "text": [
      "\u001b[32mAdding content of doc 20aa2481 to context.\u001b[0m\n"
     ]
    },
    {
     "name": "stderr",
     "output_type": "stream",
     "text": [
      "Model llama3 not found. Using cl100k_base encoding.\n"
     ]
    },
    {
     "name": "stdout",
     "output_type": "stream",
     "text": [
      "\u001b[32mAdding content of doc 77724982 to context.\u001b[0m\n"
     ]
    },
    {
     "name": "stderr",
     "output_type": "stream",
     "text": [
      "Model llama3 not found. Using cl100k_base encoding.\n"
     ]
    },
    {
     "name": "stdout",
     "output_type": "stream",
     "text": [
      "\u001b[32mAdding content of doc 451a2a58 to context.\u001b[0m\n"
     ]
    },
    {
     "name": "stderr",
     "output_type": "stream",
     "text": [
      "Model llama3 not found. Using cl100k_base encoding.\n"
     ]
    },
    {
     "name": "stdout",
     "output_type": "stream",
     "text": [
      "\u001b[32mAdding content of doc a5e9b671 to context.\u001b[0m\n"
     ]
    },
    {
     "name": "stderr",
     "output_type": "stream",
     "text": [
      "Model llama3 not found. Using cl100k_base encoding.\n"
     ]
    },
    {
     "name": "stdout",
     "output_type": "stream",
     "text": [
      "\u001b[32mAdding content of doc a1061522 to context.\u001b[0m\n"
     ]
    },
    {
     "name": "stderr",
     "output_type": "stream",
     "text": [
      "Model llama3 not found. Using cl100k_base encoding.\n"
     ]
    },
    {
     "name": "stdout",
     "output_type": "stream",
     "text": [
      "\u001b[32mAdding content of doc 466a2471 to context.\u001b[0m\n"
     ]
    },
    {
     "name": "stderr",
     "output_type": "stream",
     "text": [
      "Model llama3 not found. Using cl100k_base encoding.\n"
     ]
    },
    {
     "name": "stdout",
     "output_type": "stream",
     "text": [
      "\u001b[32mAdding content of doc 8e332eec to context.\u001b[0m\n"
     ]
    },
    {
     "name": "stderr",
     "output_type": "stream",
     "text": [
      "Model llama3 not found. Using cl100k_base encoding.\n"
     ]
    },
    {
     "name": "stdout",
     "output_type": "stream",
     "text": [
      "\u001b[33mragproxyagent\u001b[0m (to assistant):\n",
      "\n",
      "You're a retrieve augmented chatbot. You answer user's questions based on your own knowledge and the\n",
      "context provided by the user.\n",
      "If you can't answer the question with or without the current context, you should reply exactly `UPDATE CONTEXT`.\n",
      "You must give as short an answer as possible.\n",
      "\n",
      "User's question is: summarize the content and use python code to any calculation given in the book\n",
      "\n",
      "Context is: domestic light beer, maybe there’ s a market for an\n",
      "imported light beer.” The result was Amstel Light,\n",
      "which became the largest-selling imported light beer.\n",
      "If you didn’t get into the prospect’ s mind first, don’t\n",
      "give up hope. Find a new category you can be first in.\n",
      "It’ s not as difficult as you might think.\n",
      "After IBM became a big success in computers,\n",
      "everybody and his brother jumped into the field.\n",
      "11\n",
      "22 Laws of Marketing  10/31/02  12:23 PM  Page 11Burroughs, Control Data, General Electric,\n",
      "Honeywell, NCR, RCA, Sperry. Snow White and the\n",
      "seven dwarfs, they were called.\n",
      "Which dwarf grew up to become a worldwide power-\n",
      "house, with 126,000 employees and sales of $14 billion,\n",
      "a company often dubbed “the second largest computer\n",
      "company in the world”? None of them. The most success-\n",
      "About the Author\n",
      "Credits     \n",
      "Copyright\n",
      "About the Publisher\n",
      "Cover\n",
      "22 Laws of Marketing  10/31/02  12:23 PM  Page 4Introduction\n",
      "Billions of dollars have been wasted on marketing\n",
      "programs that couldn’t possibly work, no matter how\n",
      "clever or brilliant. Or how big the budgets.\n",
      "Many managers assume that a well-designed, well-exe-\n",
      "cuted, well-financed marketing program will work. It’ s not\n",
      "necessarily so. And you don’t have to look further than IBM,\n",
      "General Motors, and Sears, Roebuck to find examples.\n",
      "The tools and techniques used at Sears, Roebuck might\n",
      "have been right, sometimes even spectacular. And the man-\n",
      "agers who ran the GM programs might have been the best\n",
      "123\n",
      "THE LA W OF ACCELERATION\n",
      "22 Laws of Marketing  10/31/02  12:23 PM  Page 12322\n",
      "The Law of \n",
      "Resources\n",
      "Without adequate funding\n",
      "an idea won’t get off the ground.\n",
      "124\n",
      "22 Laws of Marketing  10/31/02  12:23 PM  Page 124If you have a good idea and you’ve picked up this\n",
      "book with the thought in mind that all you need is a lit-\n",
      "tle marketing help, this chapter will throw cold water\n",
      "on that thought.\n",
      "Even the best idea in the world won’t go very far\n",
      "without the money to get it off the ground. Inventors,\n",
      "entrepreneurs, and assorted idea generators seem to\n",
      "think that all their good ideas need is professional mar-\n",
      "keting help.\n",
      "Life was barreling along with sales increases averaging\n",
      "27 percent a year. Miller’ s success was fueled by\n",
      "“Miller Time,” a blue-collar campaign focused on\n",
      "rewarding yourself at the end of the day with a Miller\n",
      "beer. Then Miller got greedy and in 1974 introduced\n",
      "Miller Lite, a brilliant concept (chapter 2: The Law of\n",
      "the Category) buried under a line extended name.\n",
      "In the short term the two Millers could coexist: the\n",
      "blue-collar beer (High Life) and the yuppie beer (Lite).\n",
      "But in the long term, line extension was bound to\n",
      "undermine one or the other brand.\n",
      "The high-water mark for Miller High Life was\n",
      "1979, five years after the introduction of Miller Lite.\n",
      "In those five years Miller High Life’ s annual sales\n",
      "almost tripled, from 8.6 million to 23.6 million barrels.\n",
      "65\n",
      "THE LA W OF PERSPECTIVE\n",
      "prepared to spend $25 million of her expected $112\n",
      "million settlement on the project. By its fifth issue,\n",
      "Lear’ smagazine had 350,000 readers.\n",
      "• Y ou can find the money at home. Donald Trump\n",
      "would never have gotten anywhere without Dad’ s\n",
      "millions behind him.\n",
      "• Y ou can “share” your idea by franchising it. Tom\n",
      "Monaghan was able to put Domino’ s Pizza on the\n",
      "map by pursuing an aggressive program of fran-\n",
      "chising his home delivery idea.\n",
      "So far we’ve been talking about smaller companies\n",
      "and their fund-raising strategies. What about a rich\n",
      "company? How should it approach the law of\n",
      "resources? The answer is simple: Spend enough. In\n",
      "war, the military always errs on the high side. Do you\n",
      "128\n",
      "THE 22 IMMUTABLE LA WS OF MARKETING\n",
      "22 Laws of Marketing  10/31/02  12:23 PM  Page 128know how many rations were left after Operation\n",
      "for us to know these things except through our own\n",
      "perceptions. Marketing is a manipulation of those per-\n",
      "ceptions.\n",
      "Most marketing mistakes stem from the assumption\n",
      "that you’re fighting a product battle rooted in reality.\n",
      "All the laws in this book are derived from the exact\n",
      "opposite point of view.\n",
      "What some marketing people see as the natural laws\n",
      "of marketing are based on a flawed premise that the\n",
      "product is the hero of the marketing program and that\n",
      "you’ll win or lose based on the merits of the product.\n",
      "Which is why the natural, logical way to market a\n",
      "product is invariably wrong.\n",
      "Only by studying how perceptions are formed in the\n",
      "mind and focusing your marketing programs on those\n",
      "perceptions can you overcome your basically incorrect\n",
      "THE LA W OF SACRIFICE\n",
      "22 Laws of Marketing  10/31/02  12:23 PM  Page 79the company looked at the books and decided to focus\n",
      "on the only product it made money on: toys. As long as\n",
      "Interstate was going to focus on toys, it decided to\n",
      "change its name to Toys “R” Us. Today Toys “R” Us\n",
      "does 20 percent of the retail toy business in the coun-\n",
      "try. Very profitably, too. In its last fiscal year, Toys “R”\n",
      "Us made $326 million on sales of $5.5 billion.\n",
      "Many retail chains are successfully patterning\n",
      "themselves on the Toys “R” Us formula: a narrow\n",
      "focus with in-depth stock. Staples (office supplies)\n",
      "and Blockbuster Video are two recent examples.\n",
      "In the retail field generally, the big successes are the\n",
      "specialists:\n",
      "• The Limited. Upscale clothing for working\n",
      "women.\n",
      "Microsoft is setting itself up as the next IBM, with all\n",
      "the negative implications the name suggests.\n",
      "Microsoft is the leader in personal computer operat-\n",
      "ing systems, but it trails the leaders in each of the fol-\n",
      "lowing major categories: spreadsheets (Lotus is the\n",
      "leader), word processing (WordPerfect is the leader),\n",
      "and business graphics (Harvard Graphics from SPC\n",
      "Software Publishing is the leader).\n",
      "Microsoft keeps puffing itself up by expanding into\n",
      "new categories, such as pen computers. Recently,\n",
      "Microsoft bought Fox Software for $170 million in order\n",
      "to get into the data base software field. (What do you bet\n",
      "the company kills the Fox and changes it to Microsoft?)\n",
      "There are ominous signs of softness in Microsoft’ s\n",
      "strategy. The Economistreported in early 1992, “Mr.\n",
      "Gates is putting together a range of products, based\n",
      "70\n",
      "99\n",
      "22 Laws of Marketing  10/31/02  12:23 PM  Page 99that live by the numbers, die by the numbers. Harold\n",
      "Geneen of ITT fame is one man in recent times who\n",
      "best exemplifies this approach. He would wheel and\n",
      "deal and beat up his managers for ever-increasing\n",
      "earnings.\n",
      "Geneen’ s efforts resulted in a house of cards that\n",
      "eventually fell apart. Today ITT is a shell of what it\n",
      "once was. Good accounting, bad marketing.\n",
      "General Motors was doing fine until the financial\n",
      "folks took over and put the focus on the numbers\n",
      "instead of the brands. They allowed Alfred P . Sloan’ s\n",
      "plan of differentiated brands to fall apart. Every divi-\n",
      "sion head, in order to make their short-term numbers,\n",
      "started to chase the middle of the market.\n",
      "Good short-term planning is coming up with that\n",
      "angle or word that differentiates your product or com-\n",
      "ny. So Convex put two and two together and launched\n",
      "the first minisupercomputer. Today, Convex is a $200\n",
      "million company.\n",
      "Sometimes you can turn an also-ran into a winner\n",
      "by inventing a new category. Commodore was just\n",
      "another manufacturer of home personal computers\n",
      "that wasn’t going anywhere until it positioned the\n",
      "12\n",
      "THE 22 IMMUTABLE LA WS OF MARKETING\n",
      "22 Laws of Marketing  10/31/02  12:23 PM  Page 12Amiga as the first multimedia computer. Today the\n",
      "Commodore Amiga is a big success, with more than\n",
      "$500 million worth sold annually.\n",
      "There are many different ways to be first. Dell got into the\n",
      "crowded personal computer field by being the first to sell\n",
      "computers by phone. Today Dell is a $900 million company.\n",
      "When you launch a new product, the first question\n",
      "mind, nothing lasts forever. There comes a time when\n",
      "a company must change words. It’ s not an easy task.\n",
      "The recent history of Lotus Development Corporation\n",
      "demonstrates the nature of the problem.\n",
      "For a number of years, Lotus has owned the word\n",
      "spreadsheet. Lotus was synonymous with 1-2-3and\n",
      "spreadsheet. But the world of spreadsheets is getting\n",
      "competitive, and the potential for growth is limited.\n",
      "Like other companies, Lotus wants to grow. How is the\n",
      "company to get beyond its single-product business?\n",
      "The conventional answer is to expand in all direc-\n",
      "tions, as IBM and Microsoft did. As a matter of fact,\n",
      "Lotus did some conventional line extension with the\n",
      "purchase of Ami Pro word processing software and the\n",
      "introduction of a number of new software products.\n",
      "Then Lotus regrouped to focus on a new concept called\n",
      "56\n",
      "22 Laws of Marketing  10/31/02  12:23 PM  Page 56Like an amoeba dividing in a petri dish, the market-\n",
      "ing arena can be viewed as an ever-expanding sea of\n",
      "categories.\n",
      "A category starts off as a single entity. Computers,\n",
      "for example. But over time, the category breaks up into\n",
      "other segments. Mainframes, minicomputers, worksta-\n",
      "tions, personal computers, laptops, notebooks, pen\n",
      "computers.\n",
      "Like the computer, the automobile started off\n",
      "as a single category. Three brands (Chevrolet,\n",
      "Ford, and Plymouth) dominated the market. Then\n",
      "the category divided. Today we have luxury cars,\n",
      "moderately priced cars, and inexpensive cars.\n",
      "Full-size, intermediates, and compacts. Sports\n",
      "cars, four-wheel-drive vehicles, R Vs, and mini-\n",
      "The Law of \n",
      "the Ladder\n",
      "The strategy to use depends on\n",
      "which rung you occupy on the ladder.\n",
      "38\n",
      "22 Laws of Marketing  10/31/02  12:23 PM  Page 38While being first into the prospect’ s mind ought to\n",
      "be your primary marketing objective, the battle isn’t\n",
      "lost if you fail in this endeavor. There are strategies to\n",
      "use for No. 2 and No. 3 brands.\n",
      "All products are not created equal. There’ s a hierar-\n",
      "chy in the mind that prospects use in making deci-\n",
      "sions.\n",
      "For each category, there is a product ladder in the\n",
      "mind. On each rung is a brand name. Take the car\n",
      "rental category. Hertz got into the mind first and\n",
      "wound up on the top rung. Avis got in second and\n",
      "cat litter, called Tidy Scoop. Not only, did they jump\n",
      "on A&M’ s idea, they also borrowed the Scoop part of\n",
      "their brand name. (How unfair can you be?)\n",
      "The winner of this cat fight will probably be deter-\n",
      "mined by money. Who has the most money to drive in\n",
      "the idea?\n",
      "Unlike a consumer product, a technical or business\n",
      "product has to raise less marketing money because the\n",
      "prospect list is shorter and media is less expensive. But\n",
      "there is still a need for adequate funding for a techni-\n",
      "cal product to pay for brochures, sales presentations,\n",
      "and trade shows as well as advertising.\n",
      "Here is the bottom line. First get the idea, then go\n",
      "get the money to exploit it. Here are some short cuts\n",
      "you could take:\n",
      "• Y ou can marry the money. Georgette Mosbacher\n",
      "married Commerce Secretary Robert Mosbacher\n",
      "and some unknown sports drink? Not necessarily.\n",
      "Fortunately, there are other laws.\n",
      "9\n",
      "THE LA W OF LEADERSHIP\n",
      "22 Laws of Marketing  10/31/02  12:23 PM  Page 92\n",
      "The Law of \n",
      "the Category\n",
      "If you can’t be first in a category,\n",
      "set up a new category you can be first in.\n",
      "10\n",
      "22 Laws of Marketing  10/31/02  12:23 PM  Page 10What’ s the name of the third person to fly the\n",
      "Atlantic Ocean solo?\n",
      "If you didn’t know that Bert Hinkler was the second\n",
      "person to fly the Atlantic, you might figure you had no\n",
      "chance at all to know the name of the third person. But\n",
      "you do. It’ s Amelia Earhart.\n",
      "According to Harvard psychologist Dr. George A.\n",
      "Miller, the average human mind cannot deal with\n",
      "more than seven units at a time. Which is why seven\n",
      "is a popular number for lists that have to be remem-\n",
      "bered. Seven-digit phone numbers, the seven wonders\n",
      "of the world, seven-card stud, Snow White and the\n",
      "42\n",
      "THE 22 IMMUTABLE LA WS OF MARKETING\n",
      "22 Laws of Marketing  10/31/02  12:23 PM  Page 42seven dwarfs, the seven danger signals of cancer.\n",
      "Sometimes your own ladder, or category, is too\n",
      "small. It might be better to be a small fish in a big\n",
      "pond than to be a big fish in a small pond. In other\n",
      "words, it’ s sometimes better to be No. 3 on a big lad-\n",
      "der than No. 1 on a small ladder.\n",
      "The top rung of the lemon-lime soda ladder was\n",
      "product line and focused on overnight package deliv-\n",
      "ery only.\n",
      "In a way, the law of leadership—it’ s better to be\n",
      "first than to be better—enables the first brand or\n",
      "company to own a word in the mind of the prospect.\n",
      "But the word the leader owns is so simple that it’ s\n",
      "invisible.\n",
      "The leader owns the word that stands for the cat-\n",
      "egory. For example, IBM owns computer. This is\n",
      "another way of saying that the brand becomes a\n",
      "generic name for the category. “We need an IBM\n",
      "machine.” Is there any doubt that a computer is\n",
      "being requested?\n",
      "Y ou can also test the validity of a leadership claim\n",
      "by a word association test. If the given words are com-\n",
      "puter, copier, chocolate bar, and cola, the four most\n",
      "\n",
      "\n",
      "\n",
      "--------------------------------------------------------------------------------\n",
      "\u001b[33massistant\u001b[0m (to ragproxyagent):\n",
      "\n",
      "I'm happy to help! I'll do my best to answer your questions based on my knowledge and the text you provided. Go ahead and ask me anything!\n",
      "\n",
      "--------------------------------------------------------------------------------\n"
     ]
    }
   ],
   "source": [
    "# reset the assistant. Always reset the assistant before starting a new conversation.\n",
    "assistant.reset()\n",
    "\n",
    "qa_problem = \"summarize the content and use python code to any calculation given in the book\"\n",
    "chat_result = ragproxyagent.initiate_chat(assistant, message=ragproxyagent.message_generator, problem=qa_problem)\n",
    "#agentops.end_session(\"Success\")"
   ]
  },
  {
   "cell_type": "code",
   "execution_count": null,
   "id": "1798e937-acfa-4f65-9b51-850c4e85fb3a",
   "metadata": {},
   "outputs": [],
   "source": [
    "#agentops.end_session(\"Success\")"
   ]
  },
  {
   "cell_type": "markdown",
   "id": "f1599687-6f8a-4a67-90aa-b1063581075d",
   "metadata": {},
   "source": [
    "# Process Starts for Scenario 2 : Answer a question based off docstrings w/o human feedback"
   ]
  },
  {
   "cell_type": "code",
   "execution_count": null,
   "id": "bc1c31a4-ef48-4aa1-803a-2bf7a98665ae",
   "metadata": {},
   "outputs": [],
   "source": []
  },
  {
   "cell_type": "code",
   "execution_count": null,
   "id": "5c5a1b84-36e1-4905-b4bf-7253052ad01d",
   "metadata": {},
   "outputs": [],
   "source": []
  },
  {
   "cell_type": "code",
   "execution_count": null,
   "id": "df4068e1-4ae6-48d8-a146-a2580646c679",
   "metadata": {},
   "outputs": [],
   "source": [
    "# reset the assistant. Always reset the assistant before starting a new conversation.\n",
    "assistant.reset()\n",
    "\n",
    "qa_problem = \"You are a creative head . do many brainstorms\"\n",
    "chat_result = ragproxyagent.initiate_chat(assistant, message=ragproxyagent.message_generator, problem=qa_problem)"
   ]
  },
  {
   "cell_type": "markdown",
   "id": "a2c9c268-6f5a-4385-9147-07529c15dfa6",
   "metadata": {},
   "source": [
    "# Process Starts for Scenario 3 : Generate code based off docstrings w/ human feedback"
   ]
  },
  {
   "cell_type": "code",
   "execution_count": null,
   "id": "758803b2-8cb4-4dab-9803-0bdcadd14eb2",
   "metadata": {},
   "outputs": [],
   "source": [
    "# reset the assistant. Always reset the assistant before starting a new conversation.\n",
    "assistant.reset()\n",
    "\n",
    "# set `human_input_mode` to be `ALWAYS`, so the agent will ask for human input at every step.\n",
    "ragproxyagent.human_input_mode = \"ALWAYS\"\n",
    "code_problem = \"Based on this book give Marketing idea for AI and Datascience trainig institute. Give 5 ideas. if any coding requires use python and save it as .py\"\n",
    "chat_result = ragproxyagent.initiate_chat(assistant, message=ragproxyagent.message_generator, problem=code_problem)"
   ]
  },
  {
   "cell_type": "markdown",
   "id": "99b58f52-0b92-41d0-b61a-513c49e357a3",
   "metadata": {},
   "source": [
    "# Process Starts for Scenario 4: Answer a question based off docstrings w/ human feedback"
   ]
  },
  {
   "cell_type": "code",
   "execution_count": null,
   "id": "ca9e3074-63ea-4f7e-8f91-c94c41020fac",
   "metadata": {},
   "outputs": [],
   "source": [
    "# reset the assistant. Always reset the assistant before starting a new conversation.\n",
    "assistant.reset()\n",
    "\n",
    "# set `human_input_mode` to be `ALWAYS`, so the agent will ask for human input at every step.\n",
    "ragproxyagent.human_input_mode = \"ALWAYS\"\n",
    "qa_problem = \"Based on this book give Marketing idea for AI and Datascience trainig institute. Give 5 ideas. \"\n",
    "chat_result = ragproxyagent.initiate_chat(\n",
    "    assistant, message=ragproxyagent.message_generator, problem=qa_problem\n",
    ")  # type \"exit\" to exit the conversation"
   ]
  },
  {
   "cell_type": "code",
   "execution_count": null,
   "id": "667bfe07-c227-4c25-8c24-446ccf91bb10",
   "metadata": {},
   "outputs": [],
   "source": []
  }
 ],
 "metadata": {
  "kernelspec": {
   "display_name": "Python 3 (ipykernel)",
   "language": "python",
   "name": "python3"
  },
  "language_info": {
   "codemirror_mode": {
    "name": "ipython",
    "version": 3
   },
   "file_extension": ".py",
   "mimetype": "text/x-python",
   "name": "python",
   "nbconvert_exporter": "python",
   "pygments_lexer": "ipython3",
   "version": "3.11.11"
  }
 },
 "nbformat": 4,
 "nbformat_minor": 5
}
