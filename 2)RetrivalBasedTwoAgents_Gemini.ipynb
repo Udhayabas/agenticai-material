{
 "cells": [
  {
   "cell_type": "code",
   "execution_count": null,
   "id": "61a28dda-8044-4e64-bfc0-c04bb6579720",
   "metadata": {},
   "outputs": [],
   "source": [
    "#!pip install sentence_transformers\n",
    "#!pip install ag2[retrievechat]\n",
    "#!pip install pyautogen==0.7.2\n",
    "#https://microsoft.github.io/autogen/0.2/docs/notebooks/agentchat_RetrieveChat/"
   ]
  },
  {
   "cell_type": "markdown",
   "id": "28761e60-bc5c-4321-b30c-f419db29cc9f",
   "metadata": {},
   "source": [
    "# Setting base for Retrive Chat"
   ]
  },
  {
   "cell_type": "code",
   "execution_count": 1,
   "id": "48d23e50-50ac-49c1-8bbf-e2dc0b9275ea",
   "metadata": {},
   "outputs": [
    {
     "name": "stdout",
     "output_type": "stream",
     "text": [
      "models to use:  ['gpt-35-turbo', 'gpt-4-vision-preview', 'dalle', 'gemini-pro', 'gemini-1.5-pro-001', 'gemini-1.5-pro', 'gemini-pro-vision']\n"
     ]
    }
   ],
   "source": [
    "import json\n",
    "import os\n",
    "\n",
    "import chromadb\n",
    "\n",
    "import autogen\n",
    "from autogen import AssistantAgent\n",
    "from autogen.agentchat.contrib.retrieve_user_proxy_agent import RetrieveUserProxyAgent\n",
    "\n",
    "# Accepted file formats for that can be stored in\n",
    "# a vector database instance\n",
    "from autogen.retrieve_utils import TEXT_FORMATS\n",
    "\n",
    "config_list = autogen.config_list_from_json(\"OAI_CONFIG_LIST.json\")\n",
    "\n",
    "assert len(config_list) > 0\n",
    "print(\"models to use: \", [config_list[i][\"model\"] for i in range(len(config_list))])"
   ]
  },
  {
   "cell_type": "code",
   "execution_count": 2,
   "id": "f4901dc7-4ec8-46a6-abb7-40c711a7913e",
   "metadata": {},
   "outputs": [
    {
     "name": "stdout",
     "output_type": "stream",
     "text": [
      "Accepted file formats for `docs_path`:\n",
      "['txt', 'json', 'csv', 'tsv', 'md', 'html', 'htm', 'rtf', 'rst', 'jsonl', 'log', 'xml', 'yaml', 'yml', 'pdf', 'mdx']\n"
     ]
    }
   ],
   "source": [
    "print(\"Accepted file formats for `docs_path`:\")\n",
    "print(TEXT_FORMATS)"
   ]
  },
  {
   "cell_type": "code",
   "execution_count": 9,
   "id": "ab7404f8-8c8c-41c0-b014-3e408a8ddb3a",
   "metadata": {},
   "outputs": [],
   "source": [
    "config_list = [\n",
    "    {\n",
    "        \"model\": \"gemini-1.5-pro\",\n",
    "        \"api_key\": \"putyourkey\",\n",
    "        \"api_type\": \"google\"\n",
    "    }\n",
    "]"
   ]
  },
  {
   "cell_type": "code",
   "execution_count": null,
   "id": "48d95f70-b592-4ec9-8e97-95fa43db9ac5",
   "metadata": {},
   "outputs": [],
   "source": [
    "import agentops\n",
    "agentops.init(\"putYourKey\")"
   ]
  },
  {
   "cell_type": "code",
   "execution_count": 10,
   "id": "f4d873f8-e0c6-4be0-8430-b6a9fd7c632b",
   "metadata": {},
   "outputs": [],
   "source": [
    "# 1. create an AssistantAgent instance named \"assistant\"\n",
    "assistant = AssistantAgent(\n",
    "    name=\"assistant\",\n",
    "    system_message=\"You are a helpful assistant.\",\n",
    "    llm_config={\n",
    "        \"timeout\": 600,\n",
    "        \"cache_seed\": 42,\n",
    "        \"config_list\": config_list,\n",
    "    },\n",
    ")\n"
   ]
  },
  {
   "cell_type": "code",
   "execution_count": 11,
   "id": "4a104138-10e7-451c-ab49-38dc55cdb747",
   "metadata": {},
   "outputs": [],
   "source": [
    "from autogen.agentchat.contrib.retrieve_user_proxy_agent import RetrieveUserProxyAgent\n",
    "\n",
    "# Extract text from local PDF files\n",
    "pdf_files = [\"book.pdf\"]\n",
    "#docs_content = [extract_text_from_pdf(file) for file in pdf_files]\n",
    "\n",
    "from autogen.retrieve_utils import TEXT_FORMATS,extract_text_from_pdf\n",
    "docs_content= extract_text_from_pdf(\"book.pdf\")"
   ]
  },
  {
   "cell_type": "code",
   "execution_count": 12,
   "id": "e876469d-2e23-469e-a030-6d9d2080921a",
   "metadata": {},
   "outputs": [],
   "source": [
    "# Define the RetrieveUserProxyAgent instance\n",
    "ragproxyagent = RetrieveUserProxyAgent(\n",
    "    name=\"ragproxyagent\",\n",
    "    human_input_mode=\"NEVER\",\n",
    "    max_consecutive_auto_reply=3,\n",
    "    retrieve_config={\n",
    "        \"task\": \"qa\",\n",
    "        \"docs_path\": [\"autogen-docs/book.pdf\"],\n",
    "        \"docs_content\": docs_content,  # Provide the extracted content directly\n",
    "        \"chunk_token_size\": 200,\n",
    "        \"model\": config_list[0][\"model\"],\n",
    "        \"vector_db\": \"chroma\",\n",
    "        \"overwrite\": True,\n",
    "        \"get_or_create\": True,\n",
    "    },\n",
    "    code_execution_config=False,\n",
    ")"
   ]
  },
  {
   "cell_type": "markdown",
   "id": "439c9ead-b1aa-4795-9aba-723b20e3d8b2",
   "metadata": {},
   "source": [
    "# Process Starts for Scenario 1 : Generate code based off docstrings w/o human feedback"
   ]
  },
  {
   "cell_type": "code",
   "execution_count": 14,
   "id": "0a9aa104-6999-41f1-8e34-913026e26c58",
   "metadata": {},
   "outputs": [
    {
     "name": "stderr",
     "output_type": "stream",
     "text": [
      "WARNING:autogen.token_count_utils:Model gemini-1.5-pro not found. Using cl100k_base encoding.\n"
     ]
    },
    {
     "name": "stdout",
     "output_type": "stream",
     "text": [
      "VectorDB returns doc_ids:  [['fe1105cf', '8bf7f8ee', 'd8ff411c', 'f0804281', '1d0894aa', 'd11d708f', '150c596a', '59e93e46', '1613971f', '72d0eb0f', '7091167f', '43a28a91', '20aa2481', '77724982', '451a2a58', 'a5e9b671', '7acf2ce9', '8e332eec', '2181712a', '477d35c8']]\n",
      "\u001b[32mAdding content of doc fe1105cf to context.\u001b[0m\n"
     ]
    },
    {
     "name": "stderr",
     "output_type": "stream",
     "text": [
      "WARNING:autogen.token_count_utils:Model gemini-1.5-pro not found. Using cl100k_base encoding.\n"
     ]
    },
    {
     "name": "stdout",
     "output_type": "stream",
     "text": [
      "\u001b[32mAdding content of doc 8bf7f8ee to context.\u001b[0m\n"
     ]
    },
    {
     "name": "stderr",
     "output_type": "stream",
     "text": [
      "WARNING:autogen.token_count_utils:Model gemini-1.5-pro not found. Using cl100k_base encoding.\n"
     ]
    },
    {
     "name": "stdout",
     "output_type": "stream",
     "text": [
      "\u001b[32mAdding content of doc d8ff411c to context.\u001b[0m\n"
     ]
    },
    {
     "name": "stderr",
     "output_type": "stream",
     "text": [
      "WARNING:autogen.token_count_utils:Model gemini-1.5-pro not found. Using cl100k_base encoding.\n"
     ]
    },
    {
     "name": "stdout",
     "output_type": "stream",
     "text": [
      "\u001b[32mAdding content of doc f0804281 to context.\u001b[0m\n"
     ]
    },
    {
     "name": "stderr",
     "output_type": "stream",
     "text": [
      "WARNING:autogen.token_count_utils:Model gemini-1.5-pro not found. Using cl100k_base encoding.\n"
     ]
    },
    {
     "name": "stdout",
     "output_type": "stream",
     "text": [
      "\u001b[32mAdding content of doc 1d0894aa to context.\u001b[0m\n"
     ]
    },
    {
     "name": "stderr",
     "output_type": "stream",
     "text": [
      "WARNING:autogen.token_count_utils:Model gemini-1.5-pro not found. Using cl100k_base encoding.\n"
     ]
    },
    {
     "name": "stdout",
     "output_type": "stream",
     "text": [
      "\u001b[32mAdding content of doc d11d708f to context.\u001b[0m\n"
     ]
    },
    {
     "name": "stderr",
     "output_type": "stream",
     "text": [
      "WARNING:autogen.token_count_utils:Model gemini-1.5-pro not found. Using cl100k_base encoding.\n"
     ]
    },
    {
     "name": "stdout",
     "output_type": "stream",
     "text": [
      "\u001b[32mAdding content of doc 150c596a to context.\u001b[0m\n"
     ]
    },
    {
     "name": "stderr",
     "output_type": "stream",
     "text": [
      "WARNING:autogen.token_count_utils:Model gemini-1.5-pro not found. Using cl100k_base encoding.\n"
     ]
    },
    {
     "name": "stdout",
     "output_type": "stream",
     "text": [
      "\u001b[32mAdding content of doc 59e93e46 to context.\u001b[0m\n"
     ]
    },
    {
     "name": "stderr",
     "output_type": "stream",
     "text": [
      "WARNING:autogen.token_count_utils:Model gemini-1.5-pro not found. Using cl100k_base encoding.\n"
     ]
    },
    {
     "name": "stdout",
     "output_type": "stream",
     "text": [
      "\u001b[32mAdding content of doc 1613971f to context.\u001b[0m\n"
     ]
    },
    {
     "name": "stderr",
     "output_type": "stream",
     "text": [
      "WARNING:autogen.token_count_utils:Model gemini-1.5-pro not found. Using cl100k_base encoding.\n"
     ]
    },
    {
     "name": "stdout",
     "output_type": "stream",
     "text": [
      "\u001b[32mAdding content of doc 72d0eb0f to context.\u001b[0m\n"
     ]
    },
    {
     "name": "stderr",
     "output_type": "stream",
     "text": [
      "WARNING:autogen.token_count_utils:Model gemini-1.5-pro not found. Using cl100k_base encoding.\n"
     ]
    },
    {
     "name": "stdout",
     "output_type": "stream",
     "text": [
      "\u001b[32mAdding content of doc 7091167f to context.\u001b[0m\n"
     ]
    },
    {
     "name": "stderr",
     "output_type": "stream",
     "text": [
      "WARNING:autogen.token_count_utils:Model gemini-1.5-pro not found. Using cl100k_base encoding.\n"
     ]
    },
    {
     "name": "stdout",
     "output_type": "stream",
     "text": [
      "\u001b[32mAdding content of doc 43a28a91 to context.\u001b[0m\n"
     ]
    },
    {
     "name": "stderr",
     "output_type": "stream",
     "text": [
      "WARNING:autogen.token_count_utils:Model gemini-1.5-pro not found. Using cl100k_base encoding.\n"
     ]
    },
    {
     "name": "stdout",
     "output_type": "stream",
     "text": [
      "\u001b[32mAdding content of doc 20aa2481 to context.\u001b[0m\n"
     ]
    },
    {
     "name": "stderr",
     "output_type": "stream",
     "text": [
      "WARNING:autogen.token_count_utils:Model gemini-1.5-pro not found. Using cl100k_base encoding.\n"
     ]
    },
    {
     "name": "stdout",
     "output_type": "stream",
     "text": [
      "\u001b[32mAdding content of doc 77724982 to context.\u001b[0m\n"
     ]
    },
    {
     "name": "stderr",
     "output_type": "stream",
     "text": [
      "WARNING:autogen.token_count_utils:Model gemini-1.5-pro not found. Using cl100k_base encoding.\n"
     ]
    },
    {
     "name": "stdout",
     "output_type": "stream",
     "text": [
      "\u001b[32mAdding content of doc 451a2a58 to context.\u001b[0m\n"
     ]
    },
    {
     "name": "stderr",
     "output_type": "stream",
     "text": [
      "WARNING:autogen.token_count_utils:Model gemini-1.5-pro not found. Using cl100k_base encoding.\n"
     ]
    },
    {
     "name": "stdout",
     "output_type": "stream",
     "text": [
      "\u001b[32mAdding content of doc a5e9b671 to context.\u001b[0m\n"
     ]
    },
    {
     "name": "stderr",
     "output_type": "stream",
     "text": [
      "WARNING:autogen.token_count_utils:Model gemini-1.5-pro not found. Using cl100k_base encoding.\n"
     ]
    },
    {
     "name": "stdout",
     "output_type": "stream",
     "text": [
      "\u001b[32mAdding content of doc 7acf2ce9 to context.\u001b[0m\n"
     ]
    },
    {
     "name": "stderr",
     "output_type": "stream",
     "text": [
      "WARNING:autogen.token_count_utils:Model gemini-1.5-pro not found. Using cl100k_base encoding.\n"
     ]
    },
    {
     "name": "stdout",
     "output_type": "stream",
     "text": [
      "\u001b[33mragproxyagent\u001b[0m (to assistant):\n",
      "\n",
      "You're a retrieve augmented chatbot. You answer user's questions based on your own knowledge and the\n",
      "context provided by the user.\n",
      "If you can't answer the question with or without the current context, you should reply exactly `UPDATE CONTEXT`.\n",
      "You must give as short an answer as possible.\n",
      "\n",
      "User's question is: summarize the content and use python code to any calculation given in the book\n",
      "\n",
      "Context is: domestic light beer, maybe there’ s a market for an\n",
      "imported light beer.” The result was Amstel Light,\n",
      "which became the largest-selling imported light beer.\n",
      "If you didn’t get into the prospect’ s mind first, don’t\n",
      "give up hope. Find a new category you can be first in.\n",
      "It’ s not as difficult as you might think.\n",
      "After IBM became a big success in computers,\n",
      "everybody and his brother jumped into the field.\n",
      "11\n",
      "22 Laws of Marketing  10/31/02  12:23 PM  Page 11Burroughs, Control Data, General Electric,\n",
      "Honeywell, NCR, RCA, Sperry. Snow White and the\n",
      "seven dwarfs, they were called.\n",
      "Which dwarf grew up to become a worldwide power-\n",
      "house, with 126,000 employees and sales of $14 billion,\n",
      "a company often dubbed “the second largest computer\n",
      "company in the world”? None of them. The most success-\n",
      "About the Author\n",
      "Credits     \n",
      "Copyright\n",
      "About the Publisher\n",
      "Cover\n",
      "22 Laws of Marketing  10/31/02  12:23 PM  Page 4Introduction\n",
      "Billions of dollars have been wasted on marketing\n",
      "programs that couldn’t possibly work, no matter how\n",
      "clever or brilliant. Or how big the budgets.\n",
      "Many managers assume that a well-designed, well-exe-\n",
      "cuted, well-financed marketing program will work. It’ s not\n",
      "necessarily so. And you don’t have to look further than IBM,\n",
      "General Motors, and Sears, Roebuck to find examples.\n",
      "The tools and techniques used at Sears, Roebuck might\n",
      "have been right, sometimes even spectacular. And the man-\n",
      "agers who ran the GM programs might have been the best\n",
      "vans. \n",
      "In the television industry, ABC, CBS, and NBC\n",
      "once accounted for 90 percent of the viewing audi-\n",
      "ence. Now we have network, independent, cable, pay,\n",
      "and public television, and soon we’ll have instore and\n",
      "interactive television.\n",
      "Beer started the same way. Today we have\n",
      "imported and domestic beer. Premium and popular-\n",
      "priced beers. Light, draft, and dry beers. Even non-\n",
      "alcoholic beer.\n",
      "The law of division even affects countries.\n",
      "(Witness the mess in Yugoslavia.) In 1776, there were\n",
      "about 35 empires, kingdoms, countries, and states in\n",
      "the world. By World War II, the number had doubled.\n",
      "By 1970, there were more than 130 countries. Today,\n",
      "57\n",
      "123\n",
      "THE LA W OF ACCELERATION\n",
      "22 Laws of Marketing  10/31/02  12:23 PM  Page 12322\n",
      "The Law of \n",
      "Resources\n",
      "Without adequate funding\n",
      "an idea won’t get off the ground.\n",
      "124\n",
      "22 Laws of Marketing  10/31/02  12:23 PM  Page 124If you have a good idea and you’ve picked up this\n",
      "book with the thought in mind that all you need is a lit-\n",
      "tle marketing help, this chapter will throw cold water\n",
      "on that thought.\n",
      "Even the best idea in the world won’t go very far\n",
      "without the money to get it off the ground. Inventors,\n",
      "entrepreneurs, and assorted idea generators seem to\n",
      "think that all their good ideas need is professional mar-\n",
      "keting help.\n",
      "Life was barreling along with sales increases averaging\n",
      "27 percent a year. Miller’ s success was fueled by\n",
      "“Miller Time,” a blue-collar campaign focused on\n",
      "rewarding yourself at the end of the day with a Miller\n",
      "beer. Then Miller got greedy and in 1974 introduced\n",
      "Miller Lite, a brilliant concept (chapter 2: The Law of\n",
      "the Category) buried under a line extended name.\n",
      "In the short term the two Millers could coexist: the\n",
      "blue-collar beer (High Life) and the yuppie beer (Lite).\n",
      "But in the long term, line extension was bound to\n",
      "undermine one or the other brand.\n",
      "The high-water mark for Miller High Life was\n",
      "1979, five years after the introduction of Miller Lite.\n",
      "In those five years Miller High Life’ s annual sales\n",
      "almost tripled, from 8.6 million to 23.6 million barrels.\n",
      "65\n",
      "THE LA W OF PERSPECTIVE\n",
      "prepared to spend $25 million of her expected $112\n",
      "million settlement on the project. By its fifth issue,\n",
      "Lear’ smagazine had 350,000 readers.\n",
      "• Y ou can find the money at home. Donald Trump\n",
      "would never have gotten anywhere without Dad’ s\n",
      "millions behind him.\n",
      "• Y ou can “share” your idea by franchising it. Tom\n",
      "Monaghan was able to put Domino’ s Pizza on the\n",
      "map by pursuing an aggressive program of fran-\n",
      "chising his home delivery idea.\n",
      "So far we’ve been talking about smaller companies\n",
      "and their fund-raising strategies. What about a rich\n",
      "company? How should it approach the law of\n",
      "resources? The answer is simple: Spend enough. In\n",
      "war, the military always errs on the high side. Do you\n",
      "128\n",
      "THE 22 IMMUTABLE LA WS OF MARKETING\n",
      "22 Laws of Marketing  10/31/02  12:23 PM  Page 128know how many rations were left after Operation\n",
      "for us to know these things except through our own\n",
      "perceptions. Marketing is a manipulation of those per-\n",
      "ceptions.\n",
      "Most marketing mistakes stem from the assumption\n",
      "that you’re fighting a product battle rooted in reality.\n",
      "All the laws in this book are derived from the exact\n",
      "opposite point of view.\n",
      "What some marketing people see as the natural laws\n",
      "of marketing are based on a flawed premise that the\n",
      "product is the hero of the marketing program and that\n",
      "you’ll win or lose based on the merits of the product.\n",
      "Which is why the natural, logical way to market a\n",
      "product is invariably wrong.\n",
      "Only by studying how perceptions are formed in the\n",
      "mind and focusing your marketing programs on those\n",
      "perceptions can you overcome your basically incorrect\n",
      "THE LA W OF SACRIFICE\n",
      "22 Laws of Marketing  10/31/02  12:23 PM  Page 79the company looked at the books and decided to focus\n",
      "on the only product it made money on: toys. As long as\n",
      "Interstate was going to focus on toys, it decided to\n",
      "change its name to Toys “R” Us. Today Toys “R” Us\n",
      "does 20 percent of the retail toy business in the coun-\n",
      "try. Very profitably, too. In its last fiscal year, Toys “R”\n",
      "Us made $326 million on sales of $5.5 billion.\n",
      "Many retail chains are successfully patterning\n",
      "themselves on the Toys “R” Us formula: a narrow\n",
      "focus with in-depth stock. Staples (office supplies)\n",
      "and Blockbuster Video are two recent examples.\n",
      "In the retail field generally, the big successes are the\n",
      "specialists:\n",
      "• The Limited. Upscale clothing for working\n",
      "women.\n",
      "duced to “Herb the nerd,” “The best food for fast\n",
      "times,” “We do it the way you do it,” “Y ou’ve got to\n",
      "break the rules,” and on and on. It even started a pro-\n",
      "gram to attract little kids, the mainstay of McDonald’ s\n",
      "strength.\n",
      "This is no way to stay a strong No. 2. Burger King’ s\n",
      "sales per unit declined and have never returned to the\n",
      "level they were when it was on the attack.\n",
      "Burger King made the mistake of not taking the\n",
      "opposite tack.\n",
      "55\n",
      "THE LA W OF THE OPPOSITE\n",
      "22 Laws of Marketing  10/31/02  12:23 PM  Page 5510\n",
      "The Law of \n",
      "Division\n",
      "Over time, a category will divide and\n",
      "become two or more categories.\n",
      "Microsoft is setting itself up as the next IBM, with all\n",
      "the negative implications the name suggests.\n",
      "Microsoft is the leader in personal computer operat-\n",
      "ing systems, but it trails the leaders in each of the fol-\n",
      "lowing major categories: spreadsheets (Lotus is the\n",
      "leader), word processing (WordPerfect is the leader),\n",
      "and business graphics (Harvard Graphics from SPC\n",
      "Software Publishing is the leader).\n",
      "Microsoft keeps puffing itself up by expanding into\n",
      "new categories, such as pen computers. Recently,\n",
      "Microsoft bought Fox Software for $170 million in order\n",
      "to get into the data base software field. (What do you bet\n",
      "the company kills the Fox and changes it to Microsoft?)\n",
      "There are ominous signs of softness in Microsoft’ s\n",
      "strategy. The Economistreported in early 1992, “Mr.\n",
      "Gates is putting together a range of products, based\n",
      "70\n",
      "99\n",
      "22 Laws of Marketing  10/31/02  12:23 PM  Page 99that live by the numbers, die by the numbers. Harold\n",
      "Geneen of ITT fame is one man in recent times who\n",
      "best exemplifies this approach. He would wheel and\n",
      "deal and beat up his managers for ever-increasing\n",
      "earnings.\n",
      "Geneen’ s efforts resulted in a house of cards that\n",
      "eventually fell apart. Today ITT is a shell of what it\n",
      "once was. Good accounting, bad marketing.\n",
      "General Motors was doing fine until the financial\n",
      "folks took over and put the focus on the numbers\n",
      "instead of the brands. They allowed Alfred P . Sloan’ s\n",
      "plan of differentiated brands to fall apart. Every divi-\n",
      "sion head, in order to make their short-term numbers,\n",
      "started to chase the middle of the market.\n",
      "Good short-term planning is coming up with that\n",
      "angle or word that differentiates your product or com-\n",
      "ny. So Convex put two and two together and launched\n",
      "the first minisupercomputer. Today, Convex is a $200\n",
      "million company.\n",
      "Sometimes you can turn an also-ran into a winner\n",
      "by inventing a new category. Commodore was just\n",
      "another manufacturer of home personal computers\n",
      "that wasn’t going anywhere until it positioned the\n",
      "12\n",
      "THE 22 IMMUTABLE LA WS OF MARKETING\n",
      "22 Laws of Marketing  10/31/02  12:23 PM  Page 12Amiga as the first multimedia computer. Today the\n",
      "Commodore Amiga is a big success, with more than\n",
      "$500 million worth sold annually.\n",
      "There are many different ways to be first. Dell got into the\n",
      "crowded personal computer field by being the first to sell\n",
      "computers by phone. Today Dell is a $900 million company.\n",
      "When you launch a new product, the first question\n",
      "mind, nothing lasts forever. There comes a time when\n",
      "a company must change words. It’ s not an easy task.\n",
      "The recent history of Lotus Development Corporation\n",
      "demonstrates the nature of the problem.\n",
      "For a number of years, Lotus has owned the word\n",
      "spreadsheet. Lotus was synonymous with 1-2-3and\n",
      "spreadsheet. But the world of spreadsheets is getting\n",
      "competitive, and the potential for growth is limited.\n",
      "Like other companies, Lotus wants to grow. How is the\n",
      "company to get beyond its single-product business?\n",
      "The conventional answer is to expand in all direc-\n",
      "tions, as IBM and Microsoft did. As a matter of fact,\n",
      "Lotus did some conventional line extension with the\n",
      "purchase of Ami Pro word processing software and the\n",
      "introduction of a number of new software products.\n",
      "Then Lotus regrouped to focus on a new concept called\n",
      "56\n",
      "22 Laws of Marketing  10/31/02  12:23 PM  Page 56Like an amoeba dividing in a petri dish, the market-\n",
      "ing arena can be viewed as an ever-expanding sea of\n",
      "categories.\n",
      "A category starts off as a single entity. Computers,\n",
      "for example. But over time, the category breaks up into\n",
      "other segments. Mainframes, minicomputers, worksta-\n",
      "tions, personal computers, laptops, notebooks, pen\n",
      "computers.\n",
      "Like the computer, the automobile started off\n",
      "as a single category. Three brands (Chevrolet,\n",
      "Ford, and Plymouth) dominated the market. Then\n",
      "the category divided. Today we have luxury cars,\n",
      "moderately priced cars, and inexpensive cars.\n",
      "Full-size, intermediates, and compacts. Sports\n",
      "cars, four-wheel-drive vehicles, R Vs, and mini-\n",
      "The Law of \n",
      "the Ladder\n",
      "The strategy to use depends on\n",
      "which rung you occupy on the ladder.\n",
      "38\n",
      "22 Laws of Marketing  10/31/02  12:23 PM  Page 38While being first into the prospect’ s mind ought to\n",
      "be your primary marketing objective, the battle isn’t\n",
      "lost if you fail in this endeavor. There are strategies to\n",
      "use for No. 2 and No. 3 brands.\n",
      "All products are not created equal. There’ s a hierar-\n",
      "chy in the mind that prospects use in making deci-\n",
      "sions.\n",
      "For each category, there is a product ladder in the\n",
      "mind. On each rung is a brand name. Take the car\n",
      "rental category. Hertz got into the mind first and\n",
      "wound up on the top rung. Avis got in second and\n",
      "cat litter, called Tidy Scoop. Not only, did they jump\n",
      "on A&M’ s idea, they also borrowed the Scoop part of\n",
      "their brand name. (How unfair can you be?)\n",
      "The winner of this cat fight will probably be deter-\n",
      "mined by money. Who has the most money to drive in\n",
      "the idea?\n",
      "Unlike a consumer product, a technical or business\n",
      "product has to raise less marketing money because the\n",
      "prospect list is shorter and media is less expensive. But\n",
      "there is still a need for adequate funding for a techni-\n",
      "cal product to pay for brochures, sales presentations,\n",
      "and trade shows as well as advertising.\n",
      "Here is the bottom line. First get the idea, then go\n",
      "get the money to exploit it. Here are some short cuts\n",
      "you could take:\n",
      "• Y ou can marry the money. Georgette Mosbacher\n",
      "married Commerce Secretary Robert Mosbacher\n",
      "The Law of \n",
      "Focus\n",
      "The most powerful concept in marketing\n",
      "is owning a word in the prospect’s mind.\n",
      "26\n",
      "22 Laws of Marketing  10/31/02  12:23 PM  Page 26A company can become incredibly successful if it\n",
      "can find a way to own a word in the mind of the\n",
      "prospect. Not a complicated word. Not an invented\n",
      "one. The simple words are best, words taken right out\n",
      "of the dictionary.\n",
      "This is the law of focus. Y ou “burn” your way\n",
      "into the mind by narrowing the focus to a single\n",
      "word or concept. It’ s the ultimate marketing sacri-\n",
      "fice.\n",
      "Federal Express was able to put the word overnight\n",
      "into the minds of its prospects because it sacrificed its\n",
      "\n",
      "\n",
      "\n",
      "--------------------------------------------------------------------------------\n",
      "\u001b[33massistant\u001b[0m (to ragproxyagent):\n",
      "\n",
      "Amstel Light became the top imported light beer by focusing on a specific category.  The author asserts that finding a niche category is crucial, citing IBM's competitors' failure to dominate and the success of companies like Toys \"R\" Us and Dell in focusing on specific niches.  The text emphasizes the importance of resources (\"spend enough\") and owning a word in the prospect's mind.  The \"law of division\" is described, where categories split into subcategories over time (e.g., beer, computers). Finally, the text discusses the \"law of the ladder,\" where brands occupy different rungs in the consumer's mind. There are no calculations provided in the provided text, so no Python code can be written.\n",
      "\n",
      "\n",
      "--------------------------------------------------------------------------------\n"
     ]
    },
    {
     "ename": "NameError",
     "evalue": "name 'agentops' is not defined",
     "output_type": "error",
     "traceback": [
      "\u001b[1;31m---------------------------------------------------------------------------\u001b[0m",
      "\u001b[1;31mNameError\u001b[0m                                 Traceback (most recent call last)",
      "Cell \u001b[1;32mIn[14], line 6\u001b[0m\n\u001b[0;32m      4\u001b[0m qa_problem \u001b[38;5;241m=\u001b[39m \u001b[38;5;124m\"\u001b[39m\u001b[38;5;124msummarize the content and use python code to any calculation given in the book\u001b[39m\u001b[38;5;124m\"\u001b[39m\n\u001b[0;32m      5\u001b[0m chat_result \u001b[38;5;241m=\u001b[39m ragproxyagent\u001b[38;5;241m.\u001b[39minitiate_chat(assistant, message\u001b[38;5;241m=\u001b[39mragproxyagent\u001b[38;5;241m.\u001b[39mmessage_generator, problem\u001b[38;5;241m=\u001b[39mqa_problem)\n\u001b[1;32m----> 6\u001b[0m agentops\u001b[38;5;241m.\u001b[39mend_session(\u001b[38;5;124m\"\u001b[39m\u001b[38;5;124mSuccess\u001b[39m\u001b[38;5;124m\"\u001b[39m)\n",
      "\u001b[1;31mNameError\u001b[0m: name 'agentops' is not defined"
     ]
    }
   ],
   "source": [
    "# reset the assistant. Always reset the assistant before starting a new conversation.\n",
    "assistant.reset()\n",
    "\n",
    "qa_problem = \"summarize the content and use python code to any calculation given in the book\"\n",
    "chat_result = ragproxyagent.initiate_chat(assistant, message=ragproxyagent.message_generator, problem=qa_problem)\n",
    "#agentops.end_session(\"Success\")"
   ]
  },
  {
   "cell_type": "code",
   "execution_count": null,
   "id": "1798e937-acfa-4f65-9b51-850c4e85fb3a",
   "metadata": {},
   "outputs": [],
   "source": [
    "#agentops.end_session(\"Success\")"
   ]
  },
  {
   "cell_type": "markdown",
   "id": "f1599687-6f8a-4a67-90aa-b1063581075d",
   "metadata": {},
   "source": [
    "# Process Starts for Scenario 2 : Answer a question based off docstrings w/o human feedback"
   ]
  },
  {
   "cell_type": "code",
   "execution_count": null,
   "id": "bc1c31a4-ef48-4aa1-803a-2bf7a98665ae",
   "metadata": {},
   "outputs": [],
   "source": []
  },
  {
   "cell_type": "code",
   "execution_count": null,
   "id": "5c5a1b84-36e1-4905-b4bf-7253052ad01d",
   "metadata": {},
   "outputs": [],
   "source": []
  },
  {
   "cell_type": "code",
   "execution_count": 16,
   "id": "df4068e1-4ae6-48d8-a146-a2580646c679",
   "metadata": {},
   "outputs": [
    {
     "name": "stderr",
     "output_type": "stream",
     "text": [
      "WARNING:autogen.token_count_utils:Model gemini-1.5-pro not found. Using cl100k_base encoding.\n"
     ]
    },
    {
     "name": "stdout",
     "output_type": "stream",
     "text": [
      "VectorDB returns doc_ids:  [['f0804281', '7e1ac0cd', '0e08a976', '81d8712b', 'be843ac3', 'a5e9b671', 'b2f1dbea', 'ba9a27e8', '21ec236c', '51ba5a36', '8126c05a', 'a7531415', 'cf32340a', '89fd1dac', '5b19ade7', '10e789b5', '451a2a58', '4cf44936', 'e47994d3', 'c41df90f']]\n",
      "\u001b[32mAdding content of doc f0804281 to context.\u001b[0m\n"
     ]
    },
    {
     "name": "stderr",
     "output_type": "stream",
     "text": [
      "WARNING:autogen.token_count_utils:Model gemini-1.5-pro not found. Using cl100k_base encoding.\n"
     ]
    },
    {
     "name": "stdout",
     "output_type": "stream",
     "text": [
      "\u001b[32mAdding content of doc 7e1ac0cd to context.\u001b[0m\n"
     ]
    },
    {
     "name": "stderr",
     "output_type": "stream",
     "text": [
      "WARNING:autogen.token_count_utils:Model gemini-1.5-pro not found. Using cl100k_base encoding.\n"
     ]
    },
    {
     "name": "stdout",
     "output_type": "stream",
     "text": [
      "\u001b[32mAdding content of doc 0e08a976 to context.\u001b[0m\n"
     ]
    },
    {
     "name": "stderr",
     "output_type": "stream",
     "text": [
      "WARNING:autogen.token_count_utils:Model gemini-1.5-pro not found. Using cl100k_base encoding.\n"
     ]
    },
    {
     "name": "stdout",
     "output_type": "stream",
     "text": [
      "\u001b[32mAdding content of doc 81d8712b to context.\u001b[0m\n"
     ]
    },
    {
     "name": "stderr",
     "output_type": "stream",
     "text": [
      "WARNING:autogen.token_count_utils:Model gemini-1.5-pro not found. Using cl100k_base encoding.\n"
     ]
    },
    {
     "name": "stdout",
     "output_type": "stream",
     "text": [
      "\u001b[32mAdding content of doc be843ac3 to context.\u001b[0m\n"
     ]
    },
    {
     "name": "stderr",
     "output_type": "stream",
     "text": [
      "WARNING:autogen.token_count_utils:Model gemini-1.5-pro not found. Using cl100k_base encoding.\n"
     ]
    },
    {
     "name": "stdout",
     "output_type": "stream",
     "text": [
      "\u001b[32mAdding content of doc a5e9b671 to context.\u001b[0m\n"
     ]
    },
    {
     "name": "stderr",
     "output_type": "stream",
     "text": [
      "WARNING:autogen.token_count_utils:Model gemini-1.5-pro not found. Using cl100k_base encoding.\n"
     ]
    },
    {
     "name": "stdout",
     "output_type": "stream",
     "text": [
      "\u001b[32mAdding content of doc b2f1dbea to context.\u001b[0m\n"
     ]
    },
    {
     "name": "stderr",
     "output_type": "stream",
     "text": [
      "WARNING:autogen.token_count_utils:Model gemini-1.5-pro not found. Using cl100k_base encoding.\n"
     ]
    },
    {
     "name": "stdout",
     "output_type": "stream",
     "text": [
      "\u001b[32mAdding content of doc ba9a27e8 to context.\u001b[0m\n"
     ]
    },
    {
     "name": "stderr",
     "output_type": "stream",
     "text": [
      "WARNING:autogen.token_count_utils:Model gemini-1.5-pro not found. Using cl100k_base encoding.\n"
     ]
    },
    {
     "name": "stdout",
     "output_type": "stream",
     "text": [
      "\u001b[32mAdding content of doc 21ec236c to context.\u001b[0m\n"
     ]
    },
    {
     "name": "stderr",
     "output_type": "stream",
     "text": [
      "WARNING:autogen.token_count_utils:Model gemini-1.5-pro not found. Using cl100k_base encoding.\n"
     ]
    },
    {
     "name": "stdout",
     "output_type": "stream",
     "text": [
      "\u001b[32mAdding content of doc 51ba5a36 to context.\u001b[0m\n"
     ]
    },
    {
     "name": "stderr",
     "output_type": "stream",
     "text": [
      "WARNING:autogen.token_count_utils:Model gemini-1.5-pro not found. Using cl100k_base encoding.\n"
     ]
    },
    {
     "name": "stdout",
     "output_type": "stream",
     "text": [
      "\u001b[32mAdding content of doc 8126c05a to context.\u001b[0m\n"
     ]
    },
    {
     "name": "stderr",
     "output_type": "stream",
     "text": [
      "WARNING:autogen.token_count_utils:Model gemini-1.5-pro not found. Using cl100k_base encoding.\n"
     ]
    },
    {
     "name": "stdout",
     "output_type": "stream",
     "text": [
      "\u001b[32mAdding content of doc a7531415 to context.\u001b[0m\n"
     ]
    },
    {
     "name": "stderr",
     "output_type": "stream",
     "text": [
      "WARNING:autogen.token_count_utils:Model gemini-1.5-pro not found. Using cl100k_base encoding.\n"
     ]
    },
    {
     "name": "stdout",
     "output_type": "stream",
     "text": [
      "\u001b[32mAdding content of doc cf32340a to context.\u001b[0m\n"
     ]
    },
    {
     "name": "stderr",
     "output_type": "stream",
     "text": [
      "WARNING:autogen.token_count_utils:Model gemini-1.5-pro not found. Using cl100k_base encoding.\n"
     ]
    },
    {
     "name": "stdout",
     "output_type": "stream",
     "text": [
      "\u001b[32mAdding content of doc 89fd1dac to context.\u001b[0m\n"
     ]
    },
    {
     "name": "stderr",
     "output_type": "stream",
     "text": [
      "WARNING:autogen.token_count_utils:Model gemini-1.5-pro not found. Using cl100k_base encoding.\n"
     ]
    },
    {
     "name": "stdout",
     "output_type": "stream",
     "text": [
      "\u001b[32mAdding content of doc 5b19ade7 to context.\u001b[0m\n"
     ]
    },
    {
     "name": "stderr",
     "output_type": "stream",
     "text": [
      "WARNING:autogen.token_count_utils:Model gemini-1.5-pro not found. Using cl100k_base encoding.\n"
     ]
    },
    {
     "name": "stdout",
     "output_type": "stream",
     "text": [
      "\u001b[32mAdding content of doc 10e789b5 to context.\u001b[0m\n"
     ]
    },
    {
     "name": "stderr",
     "output_type": "stream",
     "text": [
      "WARNING:autogen.token_count_utils:Model gemini-1.5-pro not found. Using cl100k_base encoding.\n"
     ]
    },
    {
     "name": "stdout",
     "output_type": "stream",
     "text": [
      "\u001b[33mragproxyagent\u001b[0m (to assistant):\n",
      "\n",
      "You're a retrieve augmented chatbot. You answer user's questions based on your own knowledge and the\n",
      "context provided by the user.\n",
      "If you can't answer the question with or without the current context, you should reply exactly `UPDATE CONTEXT`.\n",
      "You must give as short an answer as possible.\n",
      "\n",
      "User's question is: You are a creative head . do many brainstorms\n",
      "\n",
      "Context is: 123\n",
      "THE LA W OF ACCELERATION\n",
      "22 Laws of Marketing  10/31/02  12:23 PM  Page 12322\n",
      "The Law of \n",
      "Resources\n",
      "Without adequate funding\n",
      "an idea won’t get off the ground.\n",
      "124\n",
      "22 Laws of Marketing  10/31/02  12:23 PM  Page 124If you have a good idea and you’ve picked up this\n",
      "book with the thought in mind that all you need is a lit-\n",
      "tle marketing help, this chapter will throw cold water\n",
      "on that thought.\n",
      "Even the best idea in the world won’t go very far\n",
      "without the money to get it off the ground. Inventors,\n",
      "entrepreneurs, and assorted idea generators seem to\n",
      "think that all their good ideas need is professional mar-\n",
      "keting help.\n",
      "Any day now, the new shooters will parade into an\n",
      "Atlanta conference room and paper the wall with a\n",
      "new set of slogans. Top Coke management will then sit\n",
      "around and discuss the latest batch of creative moves.\n",
      "While it’ s theoretically possible to stumble across the\n",
      "right idea if you haphazardly generate all the ideas you\n",
      "can possibly think of, it’ s not an efficient way to work.\n",
      "95\n",
      "THE LA W OF SINGULARITY\n",
      "22 Laws of Marketing  10/31/02  12:23 PM  Page 95Coke needs to make progress beyond just buying\n",
      "business. As we see it, Coke has only one two-part\n",
      "move to make—one part is a step backward, the other\n",
      "is a step forward.\n",
      "First of all, Coke has to bite the bullet and drop New\n",
      "Coke. Not because it’ s a loser or an embarrassment, but\n",
      "because the existence of New Coke blocks the compa-\n",
      "ny from effectively using the only weapon it has. \n",
      "spring off the ground. Good luck, you’ll need it. Very\n",
      "few outside ideas are ever accepted by large compa-\n",
      "nies. Y our only real hope is finding a smaller company\n",
      "and persuading it of the merits of your idea.\n",
      "Remember: An idea without money is worthless. Be\n",
      "prepared to give away a lot for the funding.\n",
      "In marketing, the rich often get richer because they\n",
      "have the resources to drive their ideas into the mind.\n",
      "Their problem is separating the good ideas from the\n",
      "bad ones, and avoiding spending money on too many\n",
      "products and too many programs (chapter 5: The Law\n",
      "of Focus).\n",
      "Competition is fierce. The giant corporations put a\n",
      "lot of money behind their brands. Procter & Gamble\n",
      "and Philip Morris each spend more than $2 billion a\n",
      "year on advertising. General Motors spends $1.5 bil-\n",
      "lion a year.\n",
      "plane, but it’ s not going to get off the ground unless it\n",
      "adheres to the laws of physics, especially the law of\n",
      "gravity. Y ou can build an architectural masterpiece on\n",
      "a sand dune, but the first hurricane will undermine\n",
      "your creation. So it follows that you can build a bril-\n",
      "liant marketing program only to have one of the\n",
      "immutable laws knock you flat if you don’t know what\n",
      "they are.\n",
      "Perhaps it’ s human nature not to admit there are\n",
      "things you can’t do. Certainly most marketers believe\n",
      "that anything is achievable if you are energetic enough,\n",
      "or creative enough, or determined enough. Especially\n",
      "if you are willing to spend enough money.\n",
      "Once you open your mind to the possibility that\n",
      "there are laws of marketing, it’ s easy to see what they\n",
      "are. In truth, they are obvious.\n",
      "For example, IBM wasn’t first in the marketplace\n",
      "with the mainframe computer. Remington Rand was\n",
      "first, with UNIV AC. But thanks to a massive market-\n",
      "ing effort, IBM got into the mind first and won the\n",
      "computer battle early.\n",
      "The law of the mind follows from the law of percep-\n",
      "tion. If marketing is a battle of perception, not product,\n",
      "then the mind takes precedence over the marketplace.\n",
      "Thousands of would-be entrepreneurs are tripped\n",
      "up every year by this law. Someone has an idea or con-\n",
      "cept he or she believes will revolutionize an industry,\n",
      "as well it may. The problem is getting the idea or con-\n",
      "cept into the prospect’ s mind.\n",
      "15\n",
      "22 Laws of Marketing  10/31/02  12:23 PM  Page 15The conventional solution to the problem is money.\n",
      "That is, the resources to design and build product or\n",
      "cat litter, called Tidy Scoop. Not only, did they jump\n",
      "on A&M’ s idea, they also borrowed the Scoop part of\n",
      "their brand name. (How unfair can you be?)\n",
      "The winner of this cat fight will probably be deter-\n",
      "mined by money. Who has the most money to drive in\n",
      "the idea?\n",
      "Unlike a consumer product, a technical or business\n",
      "product has to raise less marketing money because the\n",
      "prospect list is shorter and media is less expensive. But\n",
      "there is still a need for adequate funding for a techni-\n",
      "cal product to pay for brochures, sales presentations,\n",
      "and trade shows as well as advertising.\n",
      "Here is the bottom line. First get the idea, then go\n",
      "get the money to exploit it. Here are some short cuts\n",
      "you could take:\n",
      "• Y ou can marry the money. Georgette Mosbacher\n",
      "married Commerce Secretary Robert Mosbacher\n",
      "Nothing could be further from the truth. Marketing\n",
      "is a game fought in the mind of the prospect. Y ou need\n",
      "money to get into a mind. And you need money to stay\n",
      "in the mind once you get there.\n",
      "Y ou’ll get further with a mediocre idea and a mil-\n",
      "lion dollars than with a great idea alone.\n",
      "Some entrepreneurs see advertising as the solution\n",
      "to the problem of getting into prospects’ minds.\n",
      "Advertising is expensive. It cost $9,000 a minute to\n",
      "fight World War II. It cost $22,000 a minute to fight\n",
      "the Vietnam War. A one-minute commercial on the\n",
      "NFL Super Bowl will cost you $1.5 million.\n",
      "Steve Jobs and Steve Wozniak had a great idea.\n",
      "But it was Mike Markkula’ s $91,000 that put Apple\n",
      "Computer on the map. (For his money, Markkula got\n",
      "one-third of Apple. He should have held out for\n",
      "half.)\n",
      "like Gablinger’ s, Grolsch, and Gresedieck in your\n",
      "supermarket today.\n",
      "“Avis is only No. 2 in rent-a-cars.” So why go with\n",
      "them? They must try harder. Everybody knew that Avis\n",
      "was second in rent-a-cars.\n",
      "So why go with the obvious? Marketing is often a\n",
      "search for the obvious. Since you can’t change a mind once\n",
      "it’ s made up, your marketing efforts have to be devoted to\n",
      "using ideas and concepts already installed in the brain. Y ou\n",
      "have to use your marketing programs to “rub it in.” No pro-\n",
      "gram did this as brilliantly as the Avis No. 2 program.\n",
      "Positive thinking has been highly overrated. The explo-\n",
      "sive growth of communications in our society has made\n",
      "people defensive and cautious about companies trying to\n",
      "sell them anything. Admitting a problem is something that\n",
      "very few companies do.\n",
      "When a company starts a message by admitting a prob-\n",
      "King would need a term. It could be grow up. Grow up\n",
      "to the flame-broiled taste of Burger King.\n",
      "The new concept for Burger King would strike fear\n",
      "and terror in the boardroom at McDonald’ s, always a\n",
      "good sign of an effective program.\n",
      "87\n",
      "THE LA W OF ATTRIBUTES\n",
      "22 Laws of Marketing  10/31/02  12:23 PM  Page 8715\n",
      "The Law of \n",
      "Candor\n",
      "When you admit a negative,\n",
      "the prospect will give you a positive.\n",
      "88\n",
      "22 Laws of Marketing  10/31/02  12:23 PM  Page 88It goes against corporate and human nature to admit a\n",
      "problem. For years, the power of positive thinking has been\n",
      "drummed into us. “Think positive” has been the subject of\n",
      "endless books and articles.\n",
      "the prospect’ s mind? On the top rung? On the second\n",
      "rung? Or maybe we’re not on the ladder at all.\n",
      "Then make sure your program deals realistically\n",
      "with your position on the ladder. More on how to do\n",
      "this later.\n",
      "43\n",
      "THE LA W OF THE LADDER\n",
      "22 Laws of Marketing  10/31/02  12:23 PM  Page 438\n",
      "The Law of \n",
      "Duality\n",
      "In the long run, every market\n",
      "becomes a two-horse race.\n",
      "44\n",
      "22 Laws of Marketing  10/31/02  12:23 PM  Page 44Early on, a new category is a ladder of many rungs.\n",
      "Gradually, the ladder becomes a two-rung affair.\n",
      "In batteries, it’ s Eveready and Duracell. In photo-\n",
      "opinion that can almost instantly appear in a person’ s\n",
      "mind. One day you’ve never heard of a person. The\n",
      "next day that person is famous. The “overnight sensa-\n",
      "tion” is not an unusual phenomenon.\n",
      "If you want to make a big impression on another\n",
      "person, you cannot worm your way into their mind and\n",
      "then slowly build up a favorable opinion over a period\n",
      "of time. The mind doesn’t work that way. Y ou have to\n",
      "blast your way into the mind.\n",
      "The reason you blast instead of worm is that people\n",
      "don’t like to change their minds. Once they perceive\n",
      "you one way, that’ s it. They kind of file you away in\n",
      "their minds as a certain kind of person. Y ou cannot\n",
      "become a different person in their minds.\n",
      "One of the mysteries of marketing is the role of\n",
      "money. One day a few dollars can work a major mira-\n",
      "Mayor Necesidad, Dave Grusin, Enya, Public Enemy,\n",
      "Vanessa Williams, and Bruce Springsteen.\n",
      "Each segment is a separate, distinct entity. Each seg-\n",
      "ment has its own reason for existence. And each segment\n",
      "has its own leader, which is rarely the same as the leader\n",
      "of the original category. IBM is the leader in main-\n",
      "frames, DEC in minis, Sun in workstations, and so on. \n",
      "Instead of understanding this concept of division,\n",
      "many corporate leaders hold the naive belief that cate-\n",
      "gories are combining. Synergyand its kissing cousin\n",
      "the corporate allianceare the buzzwords in the board-\n",
      "rooms of America. IBM, according to the New York\n",
      "Times, is poised “to take advantage of the coming con-\n",
      "vergence of whole industries, including television,\n",
      "music, publishing and computing.”\n",
      "“IBM’ s strongest suit,” says the Times, “in the\n",
      "58\n",
      "battle that takes place in the mind of the customer.\n",
      "The shootout at General Motors between Roger\n",
      "Smith and Ross Perot illustrates the point. When he\n",
      "was on the GM board, Ross Perot spent his weekends\n",
      "visiting dealers and buying cars. He was critical of\n",
      "Roger Smith for not doing the same.\n",
      "“We’ve got to nuke the GM system,” Perot said. He\n",
      "107\n",
      "THE LA W OF SUCCESS\n",
      "22 Laws of Marketing  10/31/02  12:23 PM  Page 107advocated atom-bombing the heated garages, chauf-\n",
      "feur-driven limousines, executive dining rooms.\n",
      "(Chauffeur-driven limousines for a company trying to\n",
      "sell cars?)\n",
      "If you’re a busy CEO, how do you gather objective\n",
      "information on what is really happening? How do you\n",
      "get around the propensity of middle management to\n",
      "tell you what they think you want to hear?\n",
      "We have been studying what works in marketing\n",
      "and what doesn’t for more than 25 years. What we\n",
      "have found is that programs that work are almost\n",
      "always in tune with some fundamental force in the\n",
      "marketplace.\n",
      "INTRODUCTION\n",
      "22 Laws of Marketing  10/31/02  12:23 PM  Page 7In our books, articles, speeches, and videos we have\n",
      "analyzed marketing principles in some detail. We have\n",
      "developed strategic models of the marketing process,\n",
      "including a physical model of the human mind, which\n",
      "we helped popularize under the concept of “position-\n",
      "ing.” We also developed a military model of the mar-\n",
      "ketplace, which assigns companies and brands to\n",
      "either defensive, offensive, flanking, or guerrilla\n",
      "modes of marketing warfare.\n",
      "After years of working on marketing principles and\n",
      "have to narrow the focus in order to build a position in\n",
      "the prospect’ s mind.\n",
      "What does IBM stand for? It used to stand for\n",
      "“mainframe computers.” Today it stands for every-\n",
      "thing, which means it stands for nothing.\n",
      "Why is Sears, Roebuck in trouble? Because the\n",
      "company tried to be all things to all people. Sears was\n",
      "big in hard goods, so it went into soft goods and then\n",
      "fashion. The company even hired Cheryl Tiegs. (Do\n",
      "fashion models really buy their miniskirts at Sears?)\n",
      "In the conventional view, a business strategy usually\n",
      "consists of developing an all-encompassing vision. In\n",
      "other words, what concept or idea is big enough to hold\n",
      "all of a company’ s products and services on the market\n",
      "today as well as those that are planned for the future?\n",
      "In the conventional view, strategy is a tent. Y ou\n",
      "stake out a tent big enough so it can hold everything\n",
      "pany. Then you set up a coherent long-term marketing\n",
      "direction that builds a program to maximize that idea\n",
      "or angle. It’ s not a long-term plan, it’ s a long-term\n",
      "direction.\n",
      "Tom Monaghan’ s short-term angle at Domino’ s Pizza\n",
      "was to come up with that “home delivery” idea and\n",
      "build a system that delivered pizzas quickly and effi-\n",
      "ciently. His long-term direction was to build the first\n",
      "nationwide home delivery chain as rapidly as possible.\n",
      "Monaghan couldn’t own the words home delivery\n",
      "until he had enough franchisees to afford national\n",
      "advertising. He accomplished both objectives, and\n",
      "today Domino’ s is a $2.65 billion company with a 4\n",
      "percent share of the home delivery business.\n",
      "100\n",
      "THE 22 IMMUTABLE LA WS OF MARKETING\n",
      "22 Laws of Marketing  10/31/02  12:23 PM  Page 100Monaghan did it all without a complex, 10-year plan.\n",
      "\n",
      "\n",
      "\n",
      "--------------------------------------------------------------------------------\n"
     ]
    },
    {
     "ename": "ServerError",
     "evalue": "503 UNAVAILABLE. {'error': {'code': 503, 'message': 'The model is overloaded. Please try again later.', 'status': 'UNAVAILABLE'}}",
     "output_type": "error",
     "traceback": [
      "\u001b[1;31m---------------------------------------------------------------------------\u001b[0m",
      "\u001b[1;31mServerError\u001b[0m                               Traceback (most recent call last)",
      "Cell \u001b[1;32mIn[16], line 5\u001b[0m\n\u001b[0;32m      2\u001b[0m assistant\u001b[38;5;241m.\u001b[39mreset()\n\u001b[0;32m      4\u001b[0m qa_problem \u001b[38;5;241m=\u001b[39m \u001b[38;5;124m\"\u001b[39m\u001b[38;5;124mYou are a creative head . do many brainstorms\u001b[39m\u001b[38;5;124m\"\u001b[39m\n\u001b[1;32m----> 5\u001b[0m chat_result \u001b[38;5;241m=\u001b[39m ragproxyagent\u001b[38;5;241m.\u001b[39minitiate_chat(assistant, message\u001b[38;5;241m=\u001b[39mragproxyagent\u001b[38;5;241m.\u001b[39mmessage_generator, problem\u001b[38;5;241m=\u001b[39mqa_problem)\n",
      "File \u001b[1;32mC:\\Anaconda3\\envs\\agenticai\\Lib\\site-packages\\autogen\\agentchat\\conversable_agent.py:1142\u001b[0m, in \u001b[0;36mConversableAgent.initiate_chat\u001b[1;34m(self, recipient, clear_history, silent, cache, max_turns, summary_method, summary_args, message, **kwargs)\u001b[0m\n\u001b[0;32m   1140\u001b[0m     \u001b[38;5;28;01melse\u001b[39;00m:\n\u001b[0;32m   1141\u001b[0m         msg2send \u001b[38;5;241m=\u001b[39m \u001b[38;5;28mself\u001b[39m\u001b[38;5;241m.\u001b[39mgenerate_init_message(message, \u001b[38;5;241m*\u001b[39m\u001b[38;5;241m*\u001b[39mkwargs)\n\u001b[1;32m-> 1142\u001b[0m     \u001b[38;5;28mself\u001b[39m\u001b[38;5;241m.\u001b[39msend(msg2send, recipient, silent\u001b[38;5;241m=\u001b[39msilent)\n\u001b[0;32m   1143\u001b[0m summary \u001b[38;5;241m=\u001b[39m \u001b[38;5;28mself\u001b[39m\u001b[38;5;241m.\u001b[39m_summarize_chat(\n\u001b[0;32m   1144\u001b[0m     summary_method,\n\u001b[0;32m   1145\u001b[0m     summary_args,\n\u001b[0;32m   1146\u001b[0m     recipient,\n\u001b[0;32m   1147\u001b[0m     cache\u001b[38;5;241m=\u001b[39mcache,\n\u001b[0;32m   1148\u001b[0m )\n\u001b[0;32m   1149\u001b[0m \u001b[38;5;28;01mfor\u001b[39;00m agent \u001b[38;5;129;01min\u001b[39;00m [\u001b[38;5;28mself\u001b[39m, recipient]:\n",
      "File \u001b[1;32mC:\\Anaconda3\\envs\\agenticai\\Lib\\site-packages\\autogen\\agentchat\\conversable_agent.py:834\u001b[0m, in \u001b[0;36mConversableAgent.send\u001b[1;34m(self, message, recipient, request_reply, silent)\u001b[0m\n\u001b[0;32m    832\u001b[0m valid \u001b[38;5;241m=\u001b[39m \u001b[38;5;28mself\u001b[39m\u001b[38;5;241m.\u001b[39m_append_oai_message(message, \u001b[38;5;124m\"\u001b[39m\u001b[38;5;124massistant\u001b[39m\u001b[38;5;124m\"\u001b[39m, recipient, is_sending\u001b[38;5;241m=\u001b[39m\u001b[38;5;28;01mTrue\u001b[39;00m)\n\u001b[0;32m    833\u001b[0m \u001b[38;5;28;01mif\u001b[39;00m valid:\n\u001b[1;32m--> 834\u001b[0m     recipient\u001b[38;5;241m.\u001b[39mreceive(message, \u001b[38;5;28mself\u001b[39m, request_reply, silent)\n\u001b[0;32m    835\u001b[0m \u001b[38;5;28;01melse\u001b[39;00m:\n\u001b[0;32m    836\u001b[0m     \u001b[38;5;28;01mraise\u001b[39;00m \u001b[38;5;167;01mValueError\u001b[39;00m(\n\u001b[0;32m    837\u001b[0m         \u001b[38;5;124m\"\u001b[39m\u001b[38;5;124mMessage can\u001b[39m\u001b[38;5;124m'\u001b[39m\u001b[38;5;124mt be converted into a valid ChatCompletion message. Either content or function_call must be provided.\u001b[39m\u001b[38;5;124m\"\u001b[39m\n\u001b[0;32m    838\u001b[0m     )\n",
      "File \u001b[1;32mC:\\Anaconda3\\envs\\agenticai\\Lib\\site-packages\\autogen\\agentchat\\conversable_agent.py:942\u001b[0m, in \u001b[0;36mConversableAgent.receive\u001b[1;34m(self, message, sender, request_reply, silent)\u001b[0m\n\u001b[0;32m    940\u001b[0m \u001b[38;5;28;01mif\u001b[39;00m request_reply \u001b[38;5;129;01mis\u001b[39;00m \u001b[38;5;28;01mFalse\u001b[39;00m \u001b[38;5;129;01mor\u001b[39;00m (request_reply \u001b[38;5;129;01mis\u001b[39;00m \u001b[38;5;28;01mNone\u001b[39;00m \u001b[38;5;129;01mand\u001b[39;00m \u001b[38;5;28mself\u001b[39m\u001b[38;5;241m.\u001b[39mreply_at_receive[sender] \u001b[38;5;129;01mis\u001b[39;00m \u001b[38;5;28;01mFalse\u001b[39;00m):\n\u001b[0;32m    941\u001b[0m     \u001b[38;5;28;01mreturn\u001b[39;00m\n\u001b[1;32m--> 942\u001b[0m reply \u001b[38;5;241m=\u001b[39m \u001b[38;5;28mself\u001b[39m\u001b[38;5;241m.\u001b[39mgenerate_reply(messages\u001b[38;5;241m=\u001b[39m\u001b[38;5;28mself\u001b[39m\u001b[38;5;241m.\u001b[39mchat_messages[sender], sender\u001b[38;5;241m=\u001b[39msender)\n\u001b[0;32m    943\u001b[0m \u001b[38;5;28;01mif\u001b[39;00m reply \u001b[38;5;129;01mis\u001b[39;00m \u001b[38;5;129;01mnot\u001b[39;00m \u001b[38;5;28;01mNone\u001b[39;00m:\n\u001b[0;32m    944\u001b[0m     \u001b[38;5;28mself\u001b[39m\u001b[38;5;241m.\u001b[39msend(reply, sender, silent\u001b[38;5;241m=\u001b[39msilent)\n",
      "File \u001b[1;32mC:\\Anaconda3\\envs\\agenticai\\Lib\\site-packages\\autogen\\agentchat\\conversable_agent.py:2083\u001b[0m, in \u001b[0;36mConversableAgent.generate_reply\u001b[1;34m(self, messages, sender, **kwargs)\u001b[0m\n\u001b[0;32m   2081\u001b[0m     \u001b[38;5;28;01mcontinue\u001b[39;00m\n\u001b[0;32m   2082\u001b[0m \u001b[38;5;28;01mif\u001b[39;00m \u001b[38;5;28mself\u001b[39m\u001b[38;5;241m.\u001b[39m_match_trigger(reply_func_tuple[\u001b[38;5;124m\"\u001b[39m\u001b[38;5;124mtrigger\u001b[39m\u001b[38;5;124m\"\u001b[39m], sender):\n\u001b[1;32m-> 2083\u001b[0m     final, reply \u001b[38;5;241m=\u001b[39m reply_func(\u001b[38;5;28mself\u001b[39m, messages\u001b[38;5;241m=\u001b[39mmessages, sender\u001b[38;5;241m=\u001b[39msender, config\u001b[38;5;241m=\u001b[39mreply_func_tuple[\u001b[38;5;124m\"\u001b[39m\u001b[38;5;124mconfig\u001b[39m\u001b[38;5;124m\"\u001b[39m])\n\u001b[0;32m   2084\u001b[0m     \u001b[38;5;28;01mif\u001b[39;00m logging_enabled():\n\u001b[0;32m   2085\u001b[0m         log_event(\n\u001b[0;32m   2086\u001b[0m             \u001b[38;5;28mself\u001b[39m,\n\u001b[0;32m   2087\u001b[0m             \u001b[38;5;124m\"\u001b[39m\u001b[38;5;124mreply_func_executed\u001b[39m\u001b[38;5;124m\"\u001b[39m,\n\u001b[1;32m   (...)\u001b[0m\n\u001b[0;32m   2091\u001b[0m             reply\u001b[38;5;241m=\u001b[39mreply,\n\u001b[0;32m   2092\u001b[0m         )\n",
      "File \u001b[1;32mC:\\Anaconda3\\envs\\agenticai\\Lib\\site-packages\\autogen\\agentchat\\conversable_agent.py:1460\u001b[0m, in \u001b[0;36mConversableAgent.generate_oai_reply\u001b[1;34m(self, messages, sender, config)\u001b[0m\n\u001b[0;32m   1458\u001b[0m \u001b[38;5;28;01mif\u001b[39;00m messages \u001b[38;5;129;01mis\u001b[39;00m \u001b[38;5;28;01mNone\u001b[39;00m:\n\u001b[0;32m   1459\u001b[0m     messages \u001b[38;5;241m=\u001b[39m \u001b[38;5;28mself\u001b[39m\u001b[38;5;241m.\u001b[39m_oai_messages[sender]\n\u001b[1;32m-> 1460\u001b[0m extracted_response \u001b[38;5;241m=\u001b[39m \u001b[38;5;28mself\u001b[39m\u001b[38;5;241m.\u001b[39m_generate_oai_reply_from_client(\n\u001b[0;32m   1461\u001b[0m     client, \u001b[38;5;28mself\u001b[39m\u001b[38;5;241m.\u001b[39m_oai_system_message \u001b[38;5;241m+\u001b[39m messages, \u001b[38;5;28mself\u001b[39m\u001b[38;5;241m.\u001b[39mclient_cache\n\u001b[0;32m   1462\u001b[0m )\n\u001b[0;32m   1463\u001b[0m \u001b[38;5;28;01mreturn\u001b[39;00m (\u001b[38;5;28;01mFalse\u001b[39;00m, \u001b[38;5;28;01mNone\u001b[39;00m) \u001b[38;5;28;01mif\u001b[39;00m extracted_response \u001b[38;5;129;01mis\u001b[39;00m \u001b[38;5;28;01mNone\u001b[39;00m \u001b[38;5;28;01melse\u001b[39;00m (\u001b[38;5;28;01mTrue\u001b[39;00m, extracted_response)\n",
      "File \u001b[1;32mC:\\Anaconda3\\envs\\agenticai\\Lib\\site-packages\\autogen\\agentchat\\conversable_agent.py:1479\u001b[0m, in \u001b[0;36mConversableAgent._generate_oai_reply_from_client\u001b[1;34m(self, llm_client, messages, cache)\u001b[0m\n\u001b[0;32m   1476\u001b[0m         all_messages\u001b[38;5;241m.\u001b[39mappend(message)\n\u001b[0;32m   1478\u001b[0m \u001b[38;5;66;03m# TODO: #1143 handle token limit exceeded error\u001b[39;00m\n\u001b[1;32m-> 1479\u001b[0m response \u001b[38;5;241m=\u001b[39m llm_client\u001b[38;5;241m.\u001b[39mcreate(\n\u001b[0;32m   1480\u001b[0m     context\u001b[38;5;241m=\u001b[39mmessages[\u001b[38;5;241m-\u001b[39m\u001b[38;5;241m1\u001b[39m]\u001b[38;5;241m.\u001b[39mpop(\u001b[38;5;124m\"\u001b[39m\u001b[38;5;124mcontext\u001b[39m\u001b[38;5;124m\"\u001b[39m, \u001b[38;5;28;01mNone\u001b[39;00m),\n\u001b[0;32m   1481\u001b[0m     messages\u001b[38;5;241m=\u001b[39mall_messages,\n\u001b[0;32m   1482\u001b[0m     cache\u001b[38;5;241m=\u001b[39mcache,\n\u001b[0;32m   1483\u001b[0m     agent\u001b[38;5;241m=\u001b[39m\u001b[38;5;28mself\u001b[39m,\n\u001b[0;32m   1484\u001b[0m )\n\u001b[0;32m   1485\u001b[0m extracted_response \u001b[38;5;241m=\u001b[39m llm_client\u001b[38;5;241m.\u001b[39mextract_text_or_completion_object(response)[\u001b[38;5;241m0\u001b[39m]\n\u001b[0;32m   1487\u001b[0m \u001b[38;5;28;01mif\u001b[39;00m extracted_response \u001b[38;5;129;01mis\u001b[39;00m \u001b[38;5;28;01mNone\u001b[39;00m:\n",
      "File \u001b[1;32mC:\\Anaconda3\\envs\\agenticai\\Lib\\site-packages\\autogen\\oai\\client.py:1017\u001b[0m, in \u001b[0;36mOpenAIWrapper.create\u001b[1;34m(self, **config)\u001b[0m\n\u001b[0;32m   1015\u001b[0m \u001b[38;5;28;01mtry\u001b[39;00m:\n\u001b[0;32m   1016\u001b[0m     request_ts \u001b[38;5;241m=\u001b[39m get_current_ts()\n\u001b[1;32m-> 1017\u001b[0m     response \u001b[38;5;241m=\u001b[39m client\u001b[38;5;241m.\u001b[39mcreate(params)\n\u001b[0;32m   1018\u001b[0m \u001b[38;5;28;01mexcept\u001b[39;00m APITimeoutError \u001b[38;5;28;01mas\u001b[39;00m err:\n\u001b[0;32m   1019\u001b[0m     logger\u001b[38;5;241m.\u001b[39mdebug(\u001b[38;5;124mf\u001b[39m\u001b[38;5;124m\"\u001b[39m\u001b[38;5;124mconfig \u001b[39m\u001b[38;5;132;01m{\u001b[39;00mi\u001b[38;5;132;01m}\u001b[39;00m\u001b[38;5;124m timed out\u001b[39m\u001b[38;5;124m\"\u001b[39m, exc_info\u001b[38;5;241m=\u001b[39m\u001b[38;5;28;01mTrue\u001b[39;00m)\n",
      "File \u001b[1;32mC:\\Anaconda3\\envs\\agenticai\\Lib\\site-packages\\autogen\\oai\\gemini.py:276\u001b[0m, in \u001b[0;36mGeminiClient.create\u001b[1;34m(self, params)\u001b[0m\n\u001b[0;32m    269\u001b[0m     generate_content_config \u001b[38;5;241m=\u001b[39m GenerateContentConfig(\n\u001b[0;32m    270\u001b[0m         safety_settings\u001b[38;5;241m=\u001b[39msafety_settings,\n\u001b[0;32m    271\u001b[0m         system_instruction\u001b[38;5;241m=\u001b[39msystem_instruction,\n\u001b[0;32m    272\u001b[0m         tools\u001b[38;5;241m=\u001b[39mtools,\n\u001b[0;32m    273\u001b[0m         \u001b[38;5;241m*\u001b[39m\u001b[38;5;241m*\u001b[39mgeneration_config,\n\u001b[0;32m    274\u001b[0m     )\n\u001b[0;32m    275\u001b[0m     chat \u001b[38;5;241m=\u001b[39m client\u001b[38;5;241m.\u001b[39mchats\u001b[38;5;241m.\u001b[39mcreate(model\u001b[38;5;241m=\u001b[39mmodel_name, config\u001b[38;5;241m=\u001b[39mgenerate_content_config, history\u001b[38;5;241m=\u001b[39mgemini_messages[:\u001b[38;5;241m-\u001b[39m\u001b[38;5;241m1\u001b[39m])\n\u001b[1;32m--> 276\u001b[0m     response \u001b[38;5;241m=\u001b[39m chat\u001b[38;5;241m.\u001b[39msend_message(message\u001b[38;5;241m=\u001b[39mgemini_messages[\u001b[38;5;241m-\u001b[39m\u001b[38;5;241m1\u001b[39m]\u001b[38;5;241m.\u001b[39mparts)\n\u001b[0;32m    278\u001b[0m \u001b[38;5;66;03m# Extract text and tools from response\u001b[39;00m\n\u001b[0;32m    279\u001b[0m ans \u001b[38;5;241m=\u001b[39m \u001b[38;5;124m\"\u001b[39m\u001b[38;5;124m\"\u001b[39m\n",
      "File \u001b[1;32mC:\\Anaconda3\\envs\\agenticai\\Lib\\site-packages\\google\\genai\\chats.py:79\u001b[0m, in \u001b[0;36mChat.send_message\u001b[1;34m(self, message)\u001b[0m\n\u001b[0;32m     62\u001b[0m \u001b[38;5;250m\u001b[39m\u001b[38;5;124;03m\"\"\"Sends the conversation history with the additional message and returns the model's response.\u001b[39;00m\n\u001b[0;32m     63\u001b[0m \n\u001b[0;32m     64\u001b[0m \u001b[38;5;124;03mArgs:\u001b[39;00m\n\u001b[1;32m   (...)\u001b[0m\n\u001b[0;32m     75\u001b[0m \u001b[38;5;124;03m  response = chat.send_message('tell me a story')\u001b[39;00m\n\u001b[0;32m     76\u001b[0m \u001b[38;5;124;03m\"\"\"\u001b[39;00m\n\u001b[0;32m     78\u001b[0m input_content \u001b[38;5;241m=\u001b[39m t\u001b[38;5;241m.\u001b[39mt_content(\u001b[38;5;28mself\u001b[39m\u001b[38;5;241m.\u001b[39m_modules\u001b[38;5;241m.\u001b[39m_api_client, message)\n\u001b[1;32m---> 79\u001b[0m response \u001b[38;5;241m=\u001b[39m \u001b[38;5;28mself\u001b[39m\u001b[38;5;241m.\u001b[39m_modules\u001b[38;5;241m.\u001b[39mgenerate_content(\n\u001b[0;32m     80\u001b[0m     model\u001b[38;5;241m=\u001b[39m\u001b[38;5;28mself\u001b[39m\u001b[38;5;241m.\u001b[39m_model,\n\u001b[0;32m     81\u001b[0m     contents\u001b[38;5;241m=\u001b[39m\u001b[38;5;28mself\u001b[39m\u001b[38;5;241m.\u001b[39m_curated_history \u001b[38;5;241m+\u001b[39m [input_content],\n\u001b[0;32m     82\u001b[0m     config\u001b[38;5;241m=\u001b[39m\u001b[38;5;28mself\u001b[39m\u001b[38;5;241m.\u001b[39m_config,\n\u001b[0;32m     83\u001b[0m )\n\u001b[0;32m     84\u001b[0m \u001b[38;5;28;01mif\u001b[39;00m _validate_response(response):\n\u001b[0;32m     85\u001b[0m   \u001b[38;5;28;01mif\u001b[39;00m response\u001b[38;5;241m.\u001b[39mautomatic_function_calling_history:\n",
      "File \u001b[1;32mC:\\Anaconda3\\envs\\agenticai\\Lib\\site-packages\\google\\genai\\models.py:4504\u001b[0m, in \u001b[0;36mModels.generate_content\u001b[1;34m(self, model, contents, config)\u001b[0m\n\u001b[0;32m   4502\u001b[0m automatic_function_calling_history \u001b[38;5;241m=\u001b[39m []\n\u001b[0;32m   4503\u001b[0m \u001b[38;5;28;01mwhile\u001b[39;00m remaining_remote_calls_afc \u001b[38;5;241m>\u001b[39m \u001b[38;5;241m0\u001b[39m:\n\u001b[1;32m-> 4504\u001b[0m   response \u001b[38;5;241m=\u001b[39m \u001b[38;5;28mself\u001b[39m\u001b[38;5;241m.\u001b[39m_generate_content(\n\u001b[0;32m   4505\u001b[0m       model\u001b[38;5;241m=\u001b[39mmodel, contents\u001b[38;5;241m=\u001b[39mcontents, config\u001b[38;5;241m=\u001b[39mconfig\n\u001b[0;32m   4506\u001b[0m   )\n\u001b[0;32m   4507\u001b[0m   remaining_remote_calls_afc \u001b[38;5;241m-\u001b[39m\u001b[38;5;241m=\u001b[39m \u001b[38;5;241m1\u001b[39m\n\u001b[0;32m   4508\u001b[0m   \u001b[38;5;28;01mif\u001b[39;00m remaining_remote_calls_afc \u001b[38;5;241m==\u001b[39m \u001b[38;5;241m0\u001b[39m:\n",
      "File \u001b[1;32mC:\\Anaconda3\\envs\\agenticai\\Lib\\site-packages\\google\\genai\\models.py:3763\u001b[0m, in \u001b[0;36mModels._generate_content\u001b[1;34m(self, model, contents, config)\u001b[0m\n\u001b[0;32m   3760\u001b[0m request_dict \u001b[38;5;241m=\u001b[39m _common\u001b[38;5;241m.\u001b[39mconvert_to_dict(request_dict)\n\u001b[0;32m   3761\u001b[0m request_dict \u001b[38;5;241m=\u001b[39m _common\u001b[38;5;241m.\u001b[39mencode_unserializable_types(request_dict)\n\u001b[1;32m-> 3763\u001b[0m response_dict \u001b[38;5;241m=\u001b[39m \u001b[38;5;28mself\u001b[39m\u001b[38;5;241m.\u001b[39m_api_client\u001b[38;5;241m.\u001b[39mrequest(\n\u001b[0;32m   3764\u001b[0m     \u001b[38;5;124m'\u001b[39m\u001b[38;5;124mpost\u001b[39m\u001b[38;5;124m'\u001b[39m, path, request_dict, http_options\n\u001b[0;32m   3765\u001b[0m )\n\u001b[0;32m   3767\u001b[0m \u001b[38;5;28;01mif\u001b[39;00m \u001b[38;5;28mself\u001b[39m\u001b[38;5;241m.\u001b[39m_api_client\u001b[38;5;241m.\u001b[39mvertexai:\n\u001b[0;32m   3768\u001b[0m   response_dict \u001b[38;5;241m=\u001b[39m _GenerateContentResponse_from_vertex(\n\u001b[0;32m   3769\u001b[0m       \u001b[38;5;28mself\u001b[39m\u001b[38;5;241m.\u001b[39m_api_client, response_dict\n\u001b[0;32m   3770\u001b[0m   )\n",
      "File \u001b[1;32mC:\\Anaconda3\\envs\\agenticai\\Lib\\site-packages\\google\\genai\\_api_client.py:456\u001b[0m, in \u001b[0;36mApiClient.request\u001b[1;34m(self, http_method, path, request_dict, http_options)\u001b[0m\n\u001b[0;32m    446\u001b[0m \u001b[38;5;28;01mdef\u001b[39;00m \u001b[38;5;21mrequest\u001b[39m(\n\u001b[0;32m    447\u001b[0m     \u001b[38;5;28mself\u001b[39m,\n\u001b[0;32m    448\u001b[0m     http_method: \u001b[38;5;28mstr\u001b[39m,\n\u001b[1;32m   (...)\u001b[0m\n\u001b[0;32m    451\u001b[0m     http_options: HttpOptionsDict \u001b[38;5;241m=\u001b[39m \u001b[38;5;28;01mNone\u001b[39;00m,\n\u001b[0;32m    452\u001b[0m ):\n\u001b[0;32m    453\u001b[0m   http_request \u001b[38;5;241m=\u001b[39m \u001b[38;5;28mself\u001b[39m\u001b[38;5;241m.\u001b[39m_build_request(\n\u001b[0;32m    454\u001b[0m       http_method, path, request_dict, http_options\n\u001b[0;32m    455\u001b[0m   )\n\u001b[1;32m--> 456\u001b[0m   response \u001b[38;5;241m=\u001b[39m \u001b[38;5;28mself\u001b[39m\u001b[38;5;241m.\u001b[39m_request(http_request, stream\u001b[38;5;241m=\u001b[39m\u001b[38;5;28;01mFalse\u001b[39;00m)\n\u001b[0;32m    457\u001b[0m   \u001b[38;5;28;01mif\u001b[39;00m http_options \u001b[38;5;129;01mand\u001b[39;00m \u001b[38;5;124m'\u001b[39m\u001b[38;5;124mresponse_payload\u001b[39m\u001b[38;5;124m'\u001b[39m \u001b[38;5;129;01min\u001b[39;00m http_options:\n\u001b[0;32m    458\u001b[0m     response\u001b[38;5;241m.\u001b[39mcopy_to_dict(http_options[\u001b[38;5;124m'\u001b[39m\u001b[38;5;124mresponse_payload\u001b[39m\u001b[38;5;124m'\u001b[39m])\n",
      "File \u001b[1;32mC:\\Anaconda3\\envs\\agenticai\\Lib\\site-packages\\google\\genai\\_api_client.py:391\u001b[0m, in \u001b[0;36mApiClient._request\u001b[1;34m(self, http_request, stream)\u001b[0m\n\u001b[0;32m    387\u001b[0m   \u001b[38;5;28;01mreturn\u001b[39;00m HttpResponse(\n\u001b[0;32m    388\u001b[0m       response\u001b[38;5;241m.\u001b[39mheaders, response \u001b[38;5;28;01mif\u001b[39;00m stream \u001b[38;5;28;01melse\u001b[39;00m [response\u001b[38;5;241m.\u001b[39mtext]\n\u001b[0;32m    389\u001b[0m   )\n\u001b[0;32m    390\u001b[0m \u001b[38;5;28;01melse\u001b[39;00m:\n\u001b[1;32m--> 391\u001b[0m   \u001b[38;5;28;01mreturn\u001b[39;00m \u001b[38;5;28mself\u001b[39m\u001b[38;5;241m.\u001b[39m_request_unauthorized(http_request, stream)\n",
      "File \u001b[1;32mC:\\Anaconda3\\envs\\agenticai\\Lib\\site-packages\\google\\genai\\_api_client.py:414\u001b[0m, in \u001b[0;36mApiClient._request_unauthorized\u001b[1;34m(self, http_request, stream)\u001b[0m\n\u001b[0;32m    405\u001b[0m http_session \u001b[38;5;241m=\u001b[39m requests\u001b[38;5;241m.\u001b[39mSession()\n\u001b[0;32m    406\u001b[0m response \u001b[38;5;241m=\u001b[39m http_session\u001b[38;5;241m.\u001b[39mrequest(\n\u001b[0;32m    407\u001b[0m     method\u001b[38;5;241m=\u001b[39mhttp_request\u001b[38;5;241m.\u001b[39mmethod,\n\u001b[0;32m    408\u001b[0m     url\u001b[38;5;241m=\u001b[39mhttp_request\u001b[38;5;241m.\u001b[39murl,\n\u001b[1;32m   (...)\u001b[0m\n\u001b[0;32m    412\u001b[0m     stream\u001b[38;5;241m=\u001b[39mstream,\n\u001b[0;32m    413\u001b[0m )\n\u001b[1;32m--> 414\u001b[0m errors\u001b[38;5;241m.\u001b[39mAPIError\u001b[38;5;241m.\u001b[39mraise_for_response(response)\n\u001b[0;32m    415\u001b[0m \u001b[38;5;28;01mreturn\u001b[39;00m HttpResponse(\n\u001b[0;32m    416\u001b[0m     response\u001b[38;5;241m.\u001b[39mheaders, response \u001b[38;5;28;01mif\u001b[39;00m stream \u001b[38;5;28;01melse\u001b[39;00m [response\u001b[38;5;241m.\u001b[39mtext]\n\u001b[0;32m    417\u001b[0m )\n",
      "File \u001b[1;32mC:\\Anaconda3\\envs\\agenticai\\Lib\\site-packages\\google\\genai\\errors.py:102\u001b[0m, in \u001b[0;36mAPIError.raise_for_response\u001b[1;34m(cls, response)\u001b[0m\n\u001b[0;32m    100\u001b[0m   \u001b[38;5;28;01mraise\u001b[39;00m ClientError(status_code, response)\n\u001b[0;32m    101\u001b[0m \u001b[38;5;28;01melif\u001b[39;00m \u001b[38;5;241m500\u001b[39m \u001b[38;5;241m<\u001b[39m\u001b[38;5;241m=\u001b[39m status_code \u001b[38;5;241m<\u001b[39m \u001b[38;5;241m600\u001b[39m:\n\u001b[1;32m--> 102\u001b[0m   \u001b[38;5;28;01mraise\u001b[39;00m ServerError(status_code, response)\n\u001b[0;32m    103\u001b[0m \u001b[38;5;28;01melse\u001b[39;00m:\n\u001b[0;32m    104\u001b[0m   \u001b[38;5;28;01mraise\u001b[39;00m \u001b[38;5;28mcls\u001b[39m(status_code, response)\n",
      "\u001b[1;31mServerError\u001b[0m: 503 UNAVAILABLE. {'error': {'code': 503, 'message': 'The model is overloaded. Please try again later.', 'status': 'UNAVAILABLE'}}"
     ]
    }
   ],
   "source": [
    "# reset the assistant. Always reset the assistant before starting a new conversation.\n",
    "assistant.reset()\n",
    "\n",
    "qa_problem = \"You are a creative head . do many brainstorms\"\n",
    "chat_result = ragproxyagent.initiate_chat(assistant, message=ragproxyagent.message_generator, problem=qa_problem)"
   ]
  },
  {
   "cell_type": "markdown",
   "id": "a2c9c268-6f5a-4385-9147-07529c15dfa6",
   "metadata": {},
   "source": [
    "# Process Starts for Scenario 3 : Generate code based off docstrings w/ human feedback"
   ]
  },
  {
   "cell_type": "code",
   "execution_count": null,
   "id": "758803b2-8cb4-4dab-9803-0bdcadd14eb2",
   "metadata": {},
   "outputs": [],
   "source": [
    "# reset the assistant. Always reset the assistant before starting a new conversation.\n",
    "assistant.reset()\n",
    "\n",
    "# set `human_input_mode` to be `ALWAYS`, so the agent will ask for human input at every step.\n",
    "ragproxyagent.human_input_mode = \"ALWAYS\"\n",
    "code_problem = \"Based on this book give Marketing idea for AI and Datascience trainig institute. Give 5 ideas. if any coding requires use python and save it as .py\"\n",
    "chat_result = ragproxyagent.initiate_chat(assistant, message=ragproxyagent.message_generator, problem=code_problem)"
   ]
  },
  {
   "cell_type": "markdown",
   "id": "99b58f52-0b92-41d0-b61a-513c49e357a3",
   "metadata": {},
   "source": [
    "# Process Starts for Scenario 4: Answer a question based off docstrings w/ human feedback"
   ]
  },
  {
   "cell_type": "code",
   "execution_count": null,
   "id": "ca9e3074-63ea-4f7e-8f91-c94c41020fac",
   "metadata": {},
   "outputs": [],
   "source": [
    "# reset the assistant. Always reset the assistant before starting a new conversation.\n",
    "assistant.reset()\n",
    "\n",
    "# set `human_input_mode` to be `ALWAYS`, so the agent will ask for human input at every step.\n",
    "ragproxyagent.human_input_mode = \"ALWAYS\"\n",
    "qa_problem = \"Based on this book give Marketing idea for AI and Datascience trainig institute. Give 5 ideas. \"\n",
    "chat_result = ragproxyagent.initiate_chat(\n",
    "    assistant, message=ragproxyagent.message_generator, problem=qa_problem\n",
    ")  # type \"exit\" to exit the conversation"
   ]
  },
  {
   "cell_type": "code",
   "execution_count": null,
   "id": "667bfe07-c227-4c25-8c24-446ccf91bb10",
   "metadata": {},
   "outputs": [],
   "source": []
  }
 ],
 "metadata": {
  "kernelspec": {
   "display_name": "Python 3 (ipykernel)",
   "language": "python",
   "name": "python3"
  },
  "language_info": {
   "codemirror_mode": {
    "name": "ipython",
    "version": 3
   },
   "file_extension": ".py",
   "mimetype": "text/x-python",
   "name": "python",
   "nbconvert_exporter": "python",
   "pygments_lexer": "ipython3",
   "version": "3.12.4"
  }
 },
 "nbformat": 4,
 "nbformat_minor": 5
}
